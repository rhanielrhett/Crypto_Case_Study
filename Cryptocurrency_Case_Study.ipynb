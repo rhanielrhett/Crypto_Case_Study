{
  "cells": [
    {
      "cell_type": "markdown",
      "metadata": {},
      "source": [
        "# Cryptocurrency Case Study\n",
        "The goal of the project is to have a general overview and idea of statistical analysis of cryptocurrency data and to generate a trading strategy algorithm which can be deployed in the trading platforms or web."
      ]
    },
    {
      "cell_type": "markdown",
      "metadata": {
        "id": "XxWJUUHNITvS"
      },
      "source": [
        "# Task 1\n",
        "The goal of this task is to develop a stastical analysis for the returns of five (5) cryptocurrency tickers and generate findings from the analysis."
      ]
    },
    {
      "cell_type": "markdown",
      "metadata": {
        "id": "7uas_mYkIW5B"
      },
      "source": [
        "## Import Libraries"
      ]
    },
    {
      "cell_type": "code",
      "execution_count": 224,
      "metadata": {
        "colab": {
          "base_uri": "https://localhost:8080/"
        },
        "id": "7TiZj38oE7YW",
        "outputId": "735e62a3-da63-4d9f-e927-94f31c9c816e"
      },
      "outputs": [],
      "source": [
        "# Import libraries and mount drive\n",
        "import numpy as np\n",
        "import pandas as pd\n",
        "import matplotlib.pyplot as plt\n",
        "%matplotlib inline\n",
        "import seaborn as sns\n",
        "\n",
        "import os\n",
        "\n",
        "import sklearn as sks\n",
        "from sklearn.model_selection import train_test_split\n",
        "from sklearn.compose import make_column_selector\n",
        "from sklearn.impute import SimpleImputer\n",
        "from sklearn.preprocessing import OneHotEncoder\n",
        "from sklearn.compose import ColumnTransformer\n",
        "from sklearn.preprocessing import StandardScaler\n",
        "from sklearn.pipeline import make_pipeline\n",
        "from sklearn.pipeline import Pipeline\n",
        "from sklearn.metrics import r2_score, accuracy_score, precision_score, recall_score\n",
        "from sklearn.metrics import mean_absolute_error\n",
        "from sklearn.metrics import mean_squared_error"
      ]
    },
    {
      "cell_type": "markdown",
      "metadata": {
        "id": "mVWlzxksIZEc"
      },
      "source": [
        "## Data Cleaning and Light Data Exploration"
      ]
    },
    {
      "cell_type": "code",
      "execution_count": 225,
      "metadata": {
        "colab": {
          "base_uri": "https://localhost:8080/",
          "height": 392
        },
        "id": "Lv9UaEdIIK3v",
        "outputId": "2dc6aa43-9b2b-49f6-fd9d-54023e8246ec"
      },
      "outputs": [
        {
          "name": "stdout",
          "output_type": "stream",
          "text": [
            "c:\\Users\\Rhaniel delos Santos\\Downloads\n"
          ]
        },
        {
          "data": {
            "text/html": [
              "<div>\n",
              "<style scoped>\n",
              "    .dataframe tbody tr th:only-of-type {\n",
              "        vertical-align: middle;\n",
              "    }\n",
              "\n",
              "    .dataframe tbody tr th {\n",
              "        vertical-align: top;\n",
              "    }\n",
              "\n",
              "    .dataframe thead th {\n",
              "        text-align: right;\n",
              "    }\n",
              "</style>\n",
              "<table border=\"1\" class=\"dataframe\">\n",
              "  <thead>\n",
              "    <tr style=\"text-align: right;\">\n",
              "      <th></th>\n",
              "      <th>datetime</th>\n",
              "      <th>Inst-1-open</th>\n",
              "      <th>Inst-1-high</th>\n",
              "      <th>Inst-1-low</th>\n",
              "      <th>Inst-1-close</th>\n",
              "      <th>Inst-1-volume</th>\n",
              "      <th>Inst-2-open</th>\n",
              "      <th>Inst-2-high</th>\n",
              "      <th>Inst-2-low</th>\n",
              "      <th>Inst-2-close</th>\n",
              "      <th>...</th>\n",
              "      <th>Inst-4-open</th>\n",
              "      <th>Inst-4-high</th>\n",
              "      <th>Inst-4-low</th>\n",
              "      <th>Inst-4-close</th>\n",
              "      <th>Inst-4-volume</th>\n",
              "      <th>Inst-5-open</th>\n",
              "      <th>Inst-5-high</th>\n",
              "      <th>Inst-5-low</th>\n",
              "      <th>Inst-5-close</th>\n",
              "      <th>Inst-5-volume</th>\n",
              "    </tr>\n",
              "  </thead>\n",
              "  <tbody>\n",
              "    <tr>\n",
              "      <th>0</th>\n",
              "      <td>13-09-19 03:00:00</td>\n",
              "      <td>2221.2</td>\n",
              "      <td>2292.6</td>\n",
              "      <td>2209.4</td>\n",
              "      <td>2250.6</td>\n",
              "      <td>2784</td>\n",
              "      <td>61.731707</td>\n",
              "      <td>63.695122</td>\n",
              "      <td>59.731707</td>\n",
              "      <td>60.817073</td>\n",
              "      <td>...</td>\n",
              "      <td>101.002857</td>\n",
              "      <td>101.085714</td>\n",
              "      <td>100.897143</td>\n",
              "      <td>100.977143</td>\n",
              "      <td>1971</td>\n",
              "      <td>57.817391</td>\n",
              "      <td>57.891304</td>\n",
              "      <td>57.752174</td>\n",
              "      <td>57.752174</td>\n",
              "      <td>19286</td>\n",
              "    </tr>\n",
              "    <tr>\n",
              "      <th>1</th>\n",
              "      <td>13-09-19 04:00:00</td>\n",
              "      <td>2250.6</td>\n",
              "      <td>2352.4</td>\n",
              "      <td>2215.6</td>\n",
              "      <td>2349.0</td>\n",
              "      <td>4839</td>\n",
              "      <td>60.817073</td>\n",
              "      <td>66.304878</td>\n",
              "      <td>58.048780</td>\n",
              "      <td>65.182927</td>\n",
              "      <td>...</td>\n",
              "      <td>100.977143</td>\n",
              "      <td>101.365714</td>\n",
              "      <td>100.974286</td>\n",
              "      <td>101.365714</td>\n",
              "      <td>7770</td>\n",
              "      <td>57.752174</td>\n",
              "      <td>57.730435</td>\n",
              "      <td>57.730435</td>\n",
              "      <td>57.730435</td>\n",
              "      <td>6429</td>\n",
              "    </tr>\n",
              "    <tr>\n",
              "      <th>2</th>\n",
              "      <td>13-09-19 05:00:00</td>\n",
              "      <td>2349.0</td>\n",
              "      <td>2368.8</td>\n",
              "      <td>2293.2</td>\n",
              "      <td>2353.0</td>\n",
              "      <td>2992</td>\n",
              "      <td>65.182927</td>\n",
              "      <td>67.280488</td>\n",
              "      <td>62.609756</td>\n",
              "      <td>64.048780</td>\n",
              "      <td>...</td>\n",
              "      <td>101.365714</td>\n",
              "      <td>101.551429</td>\n",
              "      <td>101.265714</td>\n",
              "      <td>101.391429</td>\n",
              "      <td>2509</td>\n",
              "      <td>57.730435</td>\n",
              "      <td>57.739130</td>\n",
              "      <td>57.713043</td>\n",
              "      <td>57.713043</td>\n",
              "      <td>42143</td>\n",
              "    </tr>\n",
              "    <tr>\n",
              "      <th>3</th>\n",
              "      <td>13-09-19 06:00:00</td>\n",
              "      <td>2353.0</td>\n",
              "      <td>2369.2</td>\n",
              "      <td>2251.0</td>\n",
              "      <td>2316.0</td>\n",
              "      <td>5164</td>\n",
              "      <td>64.048780</td>\n",
              "      <td>65.841463</td>\n",
              "      <td>60.560976</td>\n",
              "      <td>61.256098</td>\n",
              "      <td>...</td>\n",
              "      <td>101.391429</td>\n",
              "      <td>101.468571</td>\n",
              "      <td>101.020000</td>\n",
              "      <td>101.142857</td>\n",
              "      <td>12009</td>\n",
              "      <td>57.713043</td>\n",
              "      <td>57.773913</td>\n",
              "      <td>57.752174</td>\n",
              "      <td>57.773913</td>\n",
              "      <td>6429</td>\n",
              "    </tr>\n",
              "    <tr>\n",
              "      <th>4</th>\n",
              "      <td>13-09-19 07:00:00</td>\n",
              "      <td>2316.0</td>\n",
              "      <td>2329.8</td>\n",
              "      <td>2242.4</td>\n",
              "      <td>2274.2</td>\n",
              "      <td>2526</td>\n",
              "      <td>61.256098</td>\n",
              "      <td>61.695122</td>\n",
              "      <td>57.182927</td>\n",
              "      <td>59.000000</td>\n",
              "      <td>...</td>\n",
              "      <td>101.142857</td>\n",
              "      <td>101.334286</td>\n",
              "      <td>100.934286</td>\n",
              "      <td>101.225714</td>\n",
              "      <td>4500</td>\n",
              "      <td>57.773913</td>\n",
              "      <td>57.652174</td>\n",
              "      <td>57.639130</td>\n",
              "      <td>57.639130</td>\n",
              "      <td>30714</td>\n",
              "    </tr>\n",
              "  </tbody>\n",
              "</table>\n",
              "<p>5 rows × 26 columns</p>\n",
              "</div>"
            ],
            "text/plain": [
              "            datetime  Inst-1-open  Inst-1-high  Inst-1-low  Inst-1-close  \\\n",
              "0  13-09-19 03:00:00       2221.2       2292.6      2209.4        2250.6   \n",
              "1  13-09-19 04:00:00       2250.6       2352.4      2215.6        2349.0   \n",
              "2  13-09-19 05:00:00       2349.0       2368.8      2293.2        2353.0   \n",
              "3  13-09-19 06:00:00       2353.0       2369.2      2251.0        2316.0   \n",
              "4  13-09-19 07:00:00       2316.0       2329.8      2242.4        2274.2   \n",
              "\n",
              "   Inst-1-volume  Inst-2-open  Inst-2-high  Inst-2-low  Inst-2-close  ...  \\\n",
              "0           2784    61.731707    63.695122   59.731707     60.817073  ...   \n",
              "1           4839    60.817073    66.304878   58.048780     65.182927  ...   \n",
              "2           2992    65.182927    67.280488   62.609756     64.048780  ...   \n",
              "3           5164    64.048780    65.841463   60.560976     61.256098  ...   \n",
              "4           2526    61.256098    61.695122   57.182927     59.000000  ...   \n",
              "\n",
              "   Inst-4-open  Inst-4-high  Inst-4-low  Inst-4-close  Inst-4-volume  \\\n",
              "0   101.002857   101.085714  100.897143    100.977143           1971   \n",
              "1   100.977143   101.365714  100.974286    101.365714           7770   \n",
              "2   101.365714   101.551429  101.265714    101.391429           2509   \n",
              "3   101.391429   101.468571  101.020000    101.142857          12009   \n",
              "4   101.142857   101.334286  100.934286    101.225714           4500   \n",
              "\n",
              "   Inst-5-open  Inst-5-high  Inst-5-low  Inst-5-close  Inst-5-volume  \n",
              "0    57.817391    57.891304   57.752174     57.752174          19286  \n",
              "1    57.752174    57.730435   57.730435     57.730435           6429  \n",
              "2    57.730435    57.739130   57.713043     57.713043          42143  \n",
              "3    57.713043    57.773913   57.752174     57.773913           6429  \n",
              "4    57.773913    57.652174   57.639130     57.639130          30714  \n",
              "\n",
              "[5 rows x 26 columns]"
            ]
          },
          "execution_count": 225,
          "metadata": {},
          "output_type": "execute_result"
        }
      ],
      "source": [
        "# Load the dataframe\n",
        "BASE_DIR = os.getcwd()\n",
        "print(BASE_DIR)\n",
        "filename = '{}\\\\SwapooLabs Case Study\\\\data.csv'.format(BASE_DIR)\n",
        "data = pd.read_csv(filename)\n",
        "data.head()"
      ]
    },
    {
      "cell_type": "code",
      "execution_count": 226,
      "metadata": {
        "colab": {
          "base_uri": "https://localhost:8080/"
        },
        "id": "lW_hRnqqKsdH",
        "outputId": "8bd5d21b-1c52-4699-952d-5b76e658759a"
      },
      "outputs": [
        {
          "name": "stdout",
          "output_type": "stream",
          "text": [
            "<class 'pandas.core.frame.DataFrame'>\n",
            "RangeIndex: 500 entries, 0 to 499\n",
            "Data columns (total 26 columns):\n",
            " #   Column         Non-Null Count  Dtype  \n",
            "---  ------         --------------  -----  \n",
            " 0   datetime       500 non-null    object \n",
            " 1   Inst-1-open    500 non-null    float64\n",
            " 2   Inst-1-high    500 non-null    float64\n",
            " 3   Inst-1-low     500 non-null    float64\n",
            " 4   Inst-1-close   500 non-null    float64\n",
            " 5   Inst-1-volume  500 non-null    int64  \n",
            " 6   Inst-2-open    500 non-null    float64\n",
            " 7   Inst-2-high    500 non-null    float64\n",
            " 8   Inst-2-low     500 non-null    float64\n",
            " 9   Inst-2-close   500 non-null    float64\n",
            " 10  Inst-2-volume  500 non-null    int64  \n",
            " 11  Inst-3-open    500 non-null    float64\n",
            " 12  Inst-3-high    500 non-null    float64\n",
            " 13  Inst-3-low     500 non-null    float64\n",
            " 14  Inst-3-close   500 non-null    float64\n",
            " 15  Inst-3-volume  500 non-null    int64  \n",
            " 16  Inst-4-open    500 non-null    float64\n",
            " 17  Inst-4-high    500 non-null    float64\n",
            " 18  Inst-4-low     500 non-null    float64\n",
            " 19  Inst-4-close   500 non-null    float64\n",
            " 20  Inst-4-volume  500 non-null    int64  \n",
            " 21  Inst-5-open    500 non-null    float64\n",
            " 22  Inst-5-high    500 non-null    float64\n",
            " 23  Inst-5-low     500 non-null    float64\n",
            " 24  Inst-5-close   500 non-null    float64\n",
            " 25  Inst-5-volume  500 non-null    int64  \n",
            "dtypes: float64(20), int64(5), object(1)\n",
            "memory usage: 101.7+ KB\n"
          ]
        }
      ],
      "source": [
        "# Check the information of the dataframe\n",
        "data.info()"
      ]
    },
    {
      "cell_type": "markdown",
      "metadata": {
        "id": "qCTQwMFI90nw"
      },
      "source": [
        "There are no missing values in the dataset"
      ]
    },
    {
      "cell_type": "code",
      "execution_count": 227,
      "metadata": {
        "colab": {
          "base_uri": "https://localhost:8080/"
        },
        "id": "E0EpLKc7K4XX",
        "outputId": "3069e7d8-df60-477e-f5b5-e4444d03b189"
      },
      "outputs": [
        {
          "data": {
            "text/plain": [
              "0"
            ]
          },
          "execution_count": 227,
          "metadata": {},
          "output_type": "execute_result"
        }
      ],
      "source": [
        "# Check for duplicates\n",
        "data.duplicated().sum()"
      ]
    },
    {
      "cell_type": "markdown",
      "metadata": {
        "id": "9SlyNvte934M"
      },
      "source": [
        "There are no duplicates in the dataset"
      ]
    },
    {
      "cell_type": "markdown",
      "metadata": {
        "id": "5iYPzOsnLihn"
      },
      "source": [
        "Forecasting Returns\n",
        "\n",
        "The main goal of the project is to model how the five tickers' price will move in the future (up, down, and by how much). This shall be calculated based on the raw data and is the fundamental task in financial modelling. The technical indicators may not be discussed in full detail in this notebook. Please refer to the following site for further readings:\n",
        "\n",
        "https://www.investopedia.com/terms/t/technicalindicator.asp"
      ]
    },
    {
      "cell_type": "markdown",
      "metadata": {
        "id": "vkTPr848LvOn"
      },
      "source": [
        "Log Returns\n",
        "\n",
        "Returns are widely used in finance, however log returns are preferred for mathematical modelling of time series, as they are additive across time. Also, while regular returns cannot go below -100%, log returns are not bounded.\n",
        "\n",
        "To compute the log return, we can simply take the logarithm of the ratio between two consecutive prices. The first row will have an empty return as the previous value is unknown, therefore the empty return data point will be dropped.\n",
        "\n",
        "Source: kaggle.com"
      ]
    },
    {
      "cell_type": "code",
      "execution_count": 228,
      "metadata": {
        "id": "HhLmvsoKLbwV"
      },
      "outputs": [],
      "source": [
        "# Define a function for log returns\n",
        "def log_return(series, periods=1):\n",
        "  return np.log(series).diff(periods=periods)"
      ]
    },
    {
      "cell_type": "code",
      "execution_count": 229,
      "metadata": {
        "colab": {
          "base_uri": "https://localhost:8080/",
          "height": 1000
        },
        "id": "tlI6VxTaMANX",
        "outputId": "9b313653-b530-4afe-eeb9-a3bdd3de6c20"
      },
      "outputs": [
        {
          "name": "stderr",
          "output_type": "stream",
          "text": [
            "C:\\Users\\Rhaniel delos Santos\\AppData\\Local\\Programs\\Python\\Python310\\lib\\site-packages\\pandas\\core\\arraylike.py:397: RuntimeWarning: invalid value encountered in log\n",
            "  result = getattr(ufunc, method)(*inputs, **kwargs)\n"
          ]
        },
        {
          "data": {
            "text/plain": [
              "[<matplotlib.lines.Line2D at 0x1cb40cdb610>]"
            ]
          },
          "execution_count": 229,
          "metadata": {},
          "output_type": "execute_result"
        },
        {
          "data": {
            "image/png": "[encoded data removed]",
            "text/plain": [
              "<Figure size 576x288 with 1 Axes>"
            ]
          },
          "metadata": {
            "needs_background": "light"
          },
          "output_type": "display_data"
        },
        {
          "data": {
            "image/png": "[encoded data removed]",
            "text/plain": [
              "<Figure size 576x288 with 1 Axes>"
            ]
          },
          "metadata": {
            "needs_background": "light"
          },
          "output_type": "display_data"
        },
        {
          "data": {
            "image/png": "[encoded data removed]",
            "text/plain": [
              "<Figure size 576x288 with 1 Axes>"
            ]
          },
          "metadata": {
            "needs_background": "light"
          },
          "output_type": "display_data"
        },
        {
          "data": {
            "image/png": "[encoded data removed]",
            "text/plain": [
              "<Figure size 576x288 with 1 Axes>"
            ]
          },
          "metadata": {
            "needs_background": "light"
          },
          "output_type": "display_data"
        },
        {
          "data": {
            "image/png": "[encoded data removed]",
            "text/plain": [
              "<Figure size 576x288 with 1 Axes>"
            ]
          },
          "metadata": {
            "needs_background": "light"
          },
          "output_type": "display_data"
        }
      ],
      "source": [
        "# Import scipy stats\n",
        "import scipy.stats as stats\n",
        "\n",
        "# Create time interval\n",
        "import time\n",
        "from datetime import datetime\n",
        "\n",
        "# Plot the log return of the five tickers\n",
        "lret_1 = log_return(data['Inst-1-close'])[1:]\n",
        "lret_1.rename('lret_1', inplace=True)\n",
        "\n",
        "lret_2 = log_return(data['Inst-2-close'])[1:]\n",
        "lret_2.rename('lret_2', inplace=True)\n",
        "\n",
        "lret_3 = log_return(data['Inst-3-close'])[1:]\n",
        "lret_3.rename('lret_3', inplace=True)\n",
        "\n",
        "lret_4 = log_return(data['Inst-4-close'])[1:]\n",
        "lret_4.rename('lret_4', inplace=True)\n",
        "\n",
        "lret_5 = log_return(data['Inst-5-close'])[1:]\n",
        "lret_5.rename('lret_5', inplace=True)\n",
        "\n",
        "\n",
        "plt.figure(figsize=(8,4))\n",
        "plt.plot(data['datetime'][1:], lret_1)\n",
        "plt.figure(figsize=(8,4))\n",
        "plt.plot(data['datetime'][1:], lret_2)\n",
        "plt.figure(figsize=(8,4))\n",
        "plt.plot(data['datetime'][1:], lret_3)\n",
        "plt.figure(figsize=(8,4))\n",
        "plt.plot(data['datetime'][1:], lret_4)\n",
        "plt.figure(figsize=(8,4))\n",
        "plt.plot(data['datetime'][1:], lret_5)"
      ]
    },
    {
      "cell_type": "code",
      "execution_count": 230,
      "metadata": {
        "colab": {
          "base_uri": "https://localhost:8080/",
          "height": 496
        },
        "id": "c48SrxozPaxU",
        "outputId": "82e0d426-f7aa-4ea0-b576-2144a8b55b21"
      },
      "outputs": [
        {
          "data": {
            "text/html": [
              "<div>\n",
              "<style scoped>\n",
              "    .dataframe tbody tr th:only-of-type {\n",
              "        vertical-align: middle;\n",
              "    }\n",
              "\n",
              "    .dataframe tbody tr th {\n",
              "        vertical-align: top;\n",
              "    }\n",
              "\n",
              "    .dataframe thead th {\n",
              "        text-align: right;\n",
              "    }\n",
              "</style>\n",
              "<table border=\"1\" class=\"dataframe\">\n",
              "  <thead>\n",
              "    <tr style=\"text-align: right;\">\n",
              "      <th></th>\n",
              "      <th>datetime</th>\n",
              "      <th>Inst-1-open</th>\n",
              "      <th>Inst-1-high</th>\n",
              "      <th>Inst-1-low</th>\n",
              "      <th>Inst-1-close</th>\n",
              "      <th>Inst-1-volume</th>\n",
              "      <th>Inst-2-open</th>\n",
              "      <th>Inst-2-high</th>\n",
              "      <th>Inst-2-low</th>\n",
              "      <th>Inst-2-close</th>\n",
              "      <th>...</th>\n",
              "      <th>Inst-5-open</th>\n",
              "      <th>Inst-5-high</th>\n",
              "      <th>Inst-5-low</th>\n",
              "      <th>Inst-5-close</th>\n",
              "      <th>Inst-5-volume</th>\n",
              "      <th>lret_1</th>\n",
              "      <th>lret_2</th>\n",
              "      <th>lret_3</th>\n",
              "      <th>lret_4</th>\n",
              "      <th>lret_5</th>\n",
              "    </tr>\n",
              "  </thead>\n",
              "  <tbody>\n",
              "    <tr>\n",
              "      <th>1</th>\n",
              "      <td>13-09-19 04:00:00</td>\n",
              "      <td>2250.6</td>\n",
              "      <td>2352.4</td>\n",
              "      <td>2215.6</td>\n",
              "      <td>2349.0</td>\n",
              "      <td>4839</td>\n",
              "      <td>60.817073</td>\n",
              "      <td>66.304878</td>\n",
              "      <td>58.048780</td>\n",
              "      <td>65.182927</td>\n",
              "      <td>...</td>\n",
              "      <td>57.752174</td>\n",
              "      <td>57.730435</td>\n",
              "      <td>57.730435</td>\n",
              "      <td>57.730435</td>\n",
              "      <td>6429</td>\n",
              "      <td>0.042793</td>\n",
              "      <td>0.069327</td>\n",
              "      <td>0.005385</td>\n",
              "      <td>0.003841</td>\n",
              "      <td>-0.000376</td>\n",
              "    </tr>\n",
              "    <tr>\n",
              "      <th>2</th>\n",
              "      <td>13-09-19 05:00:00</td>\n",
              "      <td>2349.0</td>\n",
              "      <td>2368.8</td>\n",
              "      <td>2293.2</td>\n",
              "      <td>2353.0</td>\n",
              "      <td>2992</td>\n",
              "      <td>65.182927</td>\n",
              "      <td>67.280488</td>\n",
              "      <td>62.609756</td>\n",
              "      <td>64.048780</td>\n",
              "      <td>...</td>\n",
              "      <td>57.730435</td>\n",
              "      <td>57.739130</td>\n",
              "      <td>57.713043</td>\n",
              "      <td>57.713043</td>\n",
              "      <td>42143</td>\n",
              "      <td>0.001701</td>\n",
              "      <td>-0.017553</td>\n",
              "      <td>0.003878</td>\n",
              "      <td>0.000254</td>\n",
              "      <td>-0.000301</td>\n",
              "    </tr>\n",
              "    <tr>\n",
              "      <th>3</th>\n",
              "      <td>13-09-19 06:00:00</td>\n",
              "      <td>2353.0</td>\n",
              "      <td>2369.2</td>\n",
              "      <td>2251.0</td>\n",
              "      <td>2316.0</td>\n",
              "      <td>5164</td>\n",
              "      <td>64.048780</td>\n",
              "      <td>65.841463</td>\n",
              "      <td>60.560976</td>\n",
              "      <td>61.256098</td>\n",
              "      <td>...</td>\n",
              "      <td>57.713043</td>\n",
              "      <td>57.773913</td>\n",
              "      <td>57.752174</td>\n",
              "      <td>57.773913</td>\n",
              "      <td>6429</td>\n",
              "      <td>-0.015850</td>\n",
              "      <td>-0.044582</td>\n",
              "      <td>-0.003747</td>\n",
              "      <td>-0.002455</td>\n",
              "      <td>0.001054</td>\n",
              "    </tr>\n",
              "    <tr>\n",
              "      <th>4</th>\n",
              "      <td>13-09-19 07:00:00</td>\n",
              "      <td>2316.0</td>\n",
              "      <td>2329.8</td>\n",
              "      <td>2242.4</td>\n",
              "      <td>2274.2</td>\n",
              "      <td>2526</td>\n",
              "      <td>61.256098</td>\n",
              "      <td>61.695122</td>\n",
              "      <td>57.182927</td>\n",
              "      <td>59.000000</td>\n",
              "      <td>...</td>\n",
              "      <td>57.773913</td>\n",
              "      <td>57.652174</td>\n",
              "      <td>57.639130</td>\n",
              "      <td>57.639130</td>\n",
              "      <td>30714</td>\n",
              "      <td>-0.018213</td>\n",
              "      <td>-0.037526</td>\n",
              "      <td>-0.001748</td>\n",
              "      <td>0.000819</td>\n",
              "      <td>-0.002336</td>\n",
              "    </tr>\n",
              "    <tr>\n",
              "      <th>5</th>\n",
              "      <td>13-09-19 08:00:00</td>\n",
              "      <td>2274.2</td>\n",
              "      <td>2379.8</td>\n",
              "      <td>2139.8</td>\n",
              "      <td>2151.6</td>\n",
              "      <td>5519</td>\n",
              "      <td>59.000000</td>\n",
              "      <td>63.573171</td>\n",
              "      <td>54.243902</td>\n",
              "      <td>54.621951</td>\n",
              "      <td>...</td>\n",
              "      <td>57.639130</td>\n",
              "      <td>57.721739</td>\n",
              "      <td>57.656522</td>\n",
              "      <td>57.721739</td>\n",
              "      <td>15000</td>\n",
              "      <td>-0.055417</td>\n",
              "      <td>-0.077102</td>\n",
              "      <td>-0.004646</td>\n",
              "      <td>-0.004498</td>\n",
              "      <td>0.001432</td>\n",
              "    </tr>\n",
              "  </tbody>\n",
              "</table>\n",
              "<p>5 rows × 31 columns</p>\n",
              "</div>"
            ],
            "text/plain": [
              "            datetime  Inst-1-open  Inst-1-high  Inst-1-low  Inst-1-close  \\\n",
              "1  13-09-19 04:00:00       2250.6       2352.4      2215.6        2349.0   \n",
              "2  13-09-19 05:00:00       2349.0       2368.8      2293.2        2353.0   \n",
              "3  13-09-19 06:00:00       2353.0       2369.2      2251.0        2316.0   \n",
              "4  13-09-19 07:00:00       2316.0       2329.8      2242.4        2274.2   \n",
              "5  13-09-19 08:00:00       2274.2       2379.8      2139.8        2151.6   \n",
              "\n",
              "   Inst-1-volume  Inst-2-open  Inst-2-high  Inst-2-low  Inst-2-close  ...  \\\n",
              "1           4839    60.817073    66.304878   58.048780     65.182927  ...   \n",
              "2           2992    65.182927    67.280488   62.609756     64.048780  ...   \n",
              "3           5164    64.048780    65.841463   60.560976     61.256098  ...   \n",
              "4           2526    61.256098    61.695122   57.182927     59.000000  ...   \n",
              "5           5519    59.000000    63.573171   54.243902     54.621951  ...   \n",
              "\n",
              "   Inst-5-open  Inst-5-high  Inst-5-low  Inst-5-close  Inst-5-volume  \\\n",
              "1    57.752174    57.730435   57.730435     57.730435           6429   \n",
              "2    57.730435    57.739130   57.713043     57.713043          42143   \n",
              "3    57.713043    57.773913   57.752174     57.773913           6429   \n",
              "4    57.773913    57.652174   57.639130     57.639130          30714   \n",
              "5    57.639130    57.721739   57.656522     57.721739          15000   \n",
              "\n",
              "     lret_1    lret_2    lret_3    lret_4    lret_5  \n",
              "1  0.042793  0.069327  0.005385  0.003841 -0.000376  \n",
              "2  0.001701 -0.017553  0.003878  0.000254 -0.000301  \n",
              "3 -0.015850 -0.044582 -0.003747 -0.002455  0.001054  \n",
              "4 -0.018213 -0.037526 -0.001748  0.000819 -0.002336  \n",
              "5 -0.055417 -0.077102 -0.004646 -0.004498  0.001432  \n",
              "\n",
              "[5 rows x 31 columns]"
            ]
          },
          "execution_count": 230,
          "metadata": {},
          "output_type": "execute_result"
        }
      ],
      "source": [
        "# Drop the first row of main dataframe\n",
        "data = data.iloc[1:,:]\n",
        "\n",
        "# Add return column\n",
        "data['lret_1'] = lret_1.to_list()\n",
        "data['lret_2'] = lret_2.to_list()\n",
        "data['lret_3'] = lret_3.to_list()\n",
        "data['lret_4'] = lret_4.to_list()\n",
        "data['lret_5'] = lret_5.to_list()\n",
        "data.head()"
      ]
    },
    {
      "cell_type": "markdown",
      "metadata": {
        "id": "Lm5Ak09DRACI"
      },
      "source": [
        "Correlation\n",
        "\n",
        "Price movements of cryptocurrencies are also highly correlated with each other. In this part, we will see how correlated the five tickers are with each other"
      ]
    },
    {
      "cell_type": "code",
      "execution_count": 231,
      "metadata": {
        "colab": {
          "base_uri": "https://localhost:8080/",
          "height": 322
        },
        "id": "T6TmBNkfc9zp",
        "outputId": "487f2eb0-dd24-4077-dc30-3bf2c2bcfc91"
      },
      "outputs": [
        {
          "name": "stderr",
          "output_type": "stream",
          "text": [
            "C:\\Users\\Rhaniel delos Santos\\AppData\\Local\\Programs\\Python\\Python310\\lib\\site-packages\\pandas\\core\\arraylike.py:397: RuntimeWarning: invalid value encountered in log\n",
            "  result = getattr(ufunc, method)(*inputs, **kwargs)\n"
          ]
        },
        {
          "data": {
            "text/plain": [
              "<AxesSubplot:>"
            ]
          },
          "execution_count": 231,
          "metadata": {},
          "output_type": "execute_result"
        },
        {
          "data": {
            "image/png": "[encoded data removed]",
            "text/plain": [
              "<Figure size 432x288 with 2 Axes>"
            ]
          },
          "metadata": {
            "needs_background": "light"
          },
          "output_type": "display_data"
        }
      ],
      "source": [
        "# Join tickers in single DataFrame\n",
        "\n",
        "lret_1 = log_return(data['Inst-1-close'])[1:]\n",
        "lret_1.rename('lret_1', inplace=True)\n",
        "\n",
        "lret_2 = log_return(data['Inst-2-close'])[1:]\n",
        "lret_2.rename('lret_2', inplace=True)\n",
        "\n",
        "lret_3 = log_return(data['Inst-3-close'])[1:]\n",
        "lret_3.rename('lret_3', inplace=True)\n",
        "\n",
        "lret_4 = log_return(data['Inst-4-close'])[1:]\n",
        "lret_4.rename('lret_4', inplace=True)\n",
        "\n",
        "lret_5 = log_return(data['Inst-5-close'])[1:]\n",
        "lret_5.rename('lret_5', inplace=True)\n",
        "\n",
        "two_assets = pd.concat([lret_1, lret_2, lret_3, lret_4, lret_5], axis=1)\n",
        "\n",
        "# Heatmap for the correlation\n",
        "sns.heatmap(two_assets.corr())"
      ]
    },
    {
      "cell_type": "markdown",
      "metadata": {},
      "source": [
        "We can see here that the logarithmic returns of ticker 1 has high correlation with logarithmic returns of tickers 4 and 3; ticker 3 has high correlation with ticker 4 and 5"
      ]
    },
    {
      "cell_type": "code",
      "execution_count": 232,
      "metadata": {},
      "outputs": [],
      "source": [
        "# Export the log return table to excel\n",
        "two_assets.to_excel('task_1.xlsx', sheet_name='lret')"
      ]
    },
    {
      "cell_type": "code",
      "execution_count": 233,
      "metadata": {
        "colab": {
          "base_uri": "https://localhost:8080/",
          "height": 1000
        },
        "id": "UGlVm3C9VcR8",
        "outputId": "20232c8d-2ed4-44cc-e938-0715f820bf09"
      },
      "outputs": [
        {
          "data": {
            "image/png": "[encoded data removed]",
            "text/plain": [
              "<Figure size 576x288 with 1 Axes>"
            ]
          },
          "metadata": {
            "needs_background": "light"
          },
          "output_type": "display_data"
        },
        {
          "data": {
            "image/png": "[encoded data removed]",
            "text/plain": [
              "<Figure size 576x288 with 1 Axes>"
            ]
          },
          "metadata": {
            "needs_background": "light"
          },
          "output_type": "display_data"
        },
        {
          "data": {
            "image/png": "[encoded data removed]",
            "text/plain": [
              "<Figure size 576x288 with 1 Axes>"
            ]
          },
          "metadata": {
            "needs_background": "light"
          },
          "output_type": "display_data"
        },
        {
          "data": {
            "image/png": "[encoded data removed]",
            "text/plain": [
              "<Figure size 576x288 with 1 Axes>"
            ]
          },
          "metadata": {
            "needs_background": "light"
          },
          "output_type": "display_data"
        },
        {
          "data": {
            "image/png": "[encoded data removed]",
            "text/plain": [
              "<Figure size 576x288 with 1 Axes>"
            ]
          },
          "metadata": {
            "needs_background": "light"
          },
          "output_type": "display_data"
        }
      ],
      "source": [
        "# Scatter plot or line plot for volume against datetime\n",
        "volume_list = ['Inst-1-volume', 'Inst-2-volume', 'Inst-3-volume', 'Inst-4-volume', 'Inst-5-volume']\n",
        "for item in volume_list:\n",
        "  plt.figure(figsize=(8,4))\n",
        "  sns.lineplot(x=data['datetime'], y=data[item])\n",
        "  plt.xlabel('timestamp')\n",
        "  plt.ylabel('Volume')\n",
        "  plt.show()"
      ]
    },
    {
      "cell_type": "markdown",
      "metadata": {
        "id": "e0rM0v-u-Mrc"
      },
      "source": [
        "Observations:\n",
        "\n",
        "1. For ticker 1, we can note the closing prices and volatility at volume greater than or equal to 20,000\n",
        "2. For ticker 2, we can note the closing price and volatility at volume greater than or equal to 25,000\n",
        "3. For ticker 3, we can note the closing price and volatility at volume greater than or equal to 200,000\n",
        "4. For ticker 4, we can note the closing price and volatility at volume greater than or equal to 20,000\n",
        "5. For ticker 5, we can note the closing price and volatility at volume greater than or equal to 0.1"
      ]
    },
    {
      "cell_type": "markdown",
      "metadata": {
        "id": "paOF7a4omQwO"
      },
      "source": [
        "## Exploratory Data Analysis"
      ]
    },
    {
      "cell_type": "code",
      "execution_count": 234,
      "metadata": {
        "colab": {
          "base_uri": "https://localhost:8080/",
          "height": 296
        },
        "id": "2_5rRlDEmTft",
        "outputId": "ddac662d-5aa2-4485-b063-f45670554413"
      },
      "outputs": [
        {
          "data": {
            "text/plain": [
              "<AxesSubplot:xlabel='Inst-1-volume', ylabel='Inst-1-close'>"
            ]
          },
          "execution_count": 234,
          "metadata": {},
          "output_type": "execute_result"
        },
        {
          "data": {
            "image/png": "[encoded data removed]",
            "text/plain": [
              "<Figure size 576x288 with 1 Axes>"
            ]
          },
          "metadata": {
            "needs_background": "light"
          },
          "output_type": "display_data"
        }
      ],
      "source": [
        "# Plot of volume versus closing prices for ticker 1\n",
        "plt.figure(figsize=(8,4))\n",
        "sns.scatterplot(x=data['Inst-1-volume'], y=data['Inst-1-close'])"
      ]
    },
    {
      "cell_type": "markdown",
      "metadata": {
        "id": "eUcHM5gkAXO1"
      },
      "source": [
        "For ticker 1, we can set the volume concentration from 0 to 20,000. Outside this region, the closing price and the volume are so much dispersed."
      ]
    },
    {
      "cell_type": "code",
      "execution_count": 235,
      "metadata": {
        "colab": {
          "base_uri": "https://localhost:8080/",
          "height": 296
        },
        "id": "SKASwPYonDPM",
        "outputId": "67621b65-5544-43e2-a6e7-fa3ef6b8398b"
      },
      "outputs": [
        {
          "data": {
            "text/plain": [
              "<AxesSubplot:xlabel='Inst-2-volume', ylabel='Inst-2-close'>"
            ]
          },
          "execution_count": 235,
          "metadata": {},
          "output_type": "execute_result"
        },
        {
          "data": {
            "image/png": "[encoded data removed]",
            "text/plain": [
              "<Figure size 576x288 with 1 Axes>"
            ]
          },
          "metadata": {
            "needs_background": "light"
          },
          "output_type": "display_data"
        }
      ],
      "source": [
        "# Plot of volume versus closing prices for ticker 2\n",
        "plt.figure(figsize=(8,4))\n",
        "sns.scatterplot(x=data['Inst-2-volume'], y=data['Inst-2-close'])"
      ]
    },
    {
      "cell_type": "markdown",
      "metadata": {
        "id": "cTQx2Mj3AKh_"
      },
      "source": [
        "For ticker 2, we can set the volume concentration from 0 to 25,000. Outside this region, the closing price and the volume are so much dispersed."
      ]
    },
    {
      "cell_type": "code",
      "execution_count": 236,
      "metadata": {
        "colab": {
          "base_uri": "https://localhost:8080/",
          "height": 296
        },
        "id": "kIXozw37nMJH",
        "outputId": "d610d4dd-1cb7-4aaa-c00f-c6120b9736c1"
      },
      "outputs": [
        {
          "data": {
            "text/plain": [
              "<AxesSubplot:xlabel='Inst-3-volume', ylabel='Inst-3-close'>"
            ]
          },
          "execution_count": 236,
          "metadata": {},
          "output_type": "execute_result"
        },
        {
          "data": {
            "image/png": "[encoded data removed]",
            "text/plain": [
              "<Figure size 576x288 with 1 Axes>"
            ]
          },
          "metadata": {
            "needs_background": "light"
          },
          "output_type": "display_data"
        }
      ],
      "source": [
        "# Plot of volume versus closing prices for ticker 3\n",
        "plt.figure(figsize=(8,4))\n",
        "sns.scatterplot(x=data['Inst-3-volume'], y=data['Inst-3-close'])"
      ]
    },
    {
      "cell_type": "markdown",
      "metadata": {
        "id": "UHJegNpj_3QR"
      },
      "source": [
        "For ticker 3, we can set the volume concentration from 0 to 100,000. Outside this region, the closing price and the volume are so much dispersed."
      ]
    },
    {
      "cell_type": "code",
      "execution_count": 237,
      "metadata": {
        "colab": {
          "base_uri": "https://localhost:8080/",
          "height": 298
        },
        "id": "VhX5veuLnWAC",
        "outputId": "15ec976d-4b82-4174-90a6-9cb3b1f6c9aa"
      },
      "outputs": [
        {
          "data": {
            "text/plain": [
              "<AxesSubplot:xlabel='Inst-4-volume', ylabel='Inst-4-close'>"
            ]
          },
          "execution_count": 237,
          "metadata": {},
          "output_type": "execute_result"
        },
        {
          "data": {
            "image/png": "[encoded data removed]",
            "text/plain": [
              "<Figure size 576x288 with 1 Axes>"
            ]
          },
          "metadata": {
            "needs_background": "light"
          },
          "output_type": "display_data"
        }
      ],
      "source": [
        "# Plot of volume versus closing prices for ticker 4\n",
        "plt.figure(figsize=(8,4))\n",
        "sns.scatterplot(x=data['Inst-4-volume'], y=data['Inst-4-close'])"
      ]
    },
    {
      "cell_type": "markdown",
      "metadata": {
        "id": "ra8a40ZcAcyg"
      },
      "source": [
        "For ticker 4, we can set the volume concentration from 0 to 20,000. Outside this region, the closing price and the volume are so much dispersed."
      ]
    },
    {
      "cell_type": "code",
      "execution_count": 238,
      "metadata": {
        "colab": {
          "base_uri": "https://localhost:8080/",
          "height": 296
        },
        "id": "fz-plCIonctr",
        "outputId": "64e9b796-f341-40db-aace-3b92bc320c8b"
      },
      "outputs": [
        {
          "data": {
            "text/plain": [
              "<AxesSubplot:xlabel='Inst-5-volume', ylabel='Inst-5-close'>"
            ]
          },
          "execution_count": 238,
          "metadata": {},
          "output_type": "execute_result"
        },
        {
          "data": {
            "image/png": "[encoded data removed]",
            "text/plain": [
              "<Figure size 576x288 with 1 Axes>"
            ]
          },
          "metadata": {
            "needs_background": "light"
          },
          "output_type": "display_data"
        }
      ],
      "source": [
        "# Plot of volume versus closing prices for ticker 5\n",
        "plt.figure(figsize=(8,4))\n",
        "sns.scatterplot(x=data['Inst-5-volume'], y=data['Inst-5-close'])"
      ]
    },
    {
      "cell_type": "markdown",
      "metadata": {
        "id": "GqTl11GjAi92"
      },
      "source": [
        "For ticker 5, we can set the volume concentration from 0 to around 0.1. Outside this region, the closing price and the volume are so much dispersed."
      ]
    },
    {
      "cell_type": "markdown",
      "metadata": {
        "id": "SZWwZgKsVvb4"
      },
      "source": [
        "## Statistical Analysis"
      ]
    },
    {
      "cell_type": "code",
      "execution_count": 239,
      "metadata": {},
      "outputs": [
        {
          "data": {
            "text/plain": [
              "count    497.000000\n",
              "mean       0.000458\n",
              "std        0.130433\n",
              "min       -0.696782\n",
              "25%       -0.033125\n",
              "50%        0.004059\n",
              "75%        0.038857\n",
              "max        1.202559\n",
              "Name: lret_1, dtype: float64"
            ]
          },
          "execution_count": 239,
          "metadata": {},
          "output_type": "execute_result"
        }
      ],
      "source": [
        "# Describe the lret_1 column\n",
        "data['lret_1'].describe(include='all')"
      ]
    },
    {
      "cell_type": "code",
      "execution_count": 240,
      "metadata": {
        "id": "wI4z9bXYVoQx"
      },
      "outputs": [
        {
          "data": {
            "image/png": "[encoded data removed]",
            "text/plain": [
              "<Figure size 432x288 with 1 Axes>"
            ]
          },
          "metadata": {
            "needs_background": "light"
          },
          "output_type": "display_data"
        }
      ],
      "source": [
        "# Determine the distribution of logarithmic returns\n",
        "plt.hist(x=data['lret_1'])\n",
        "plt.show()"
      ]
    },
    {
      "cell_type": "code",
      "execution_count": 241,
      "metadata": {},
      "outputs": [
        {
          "data": {
            "text/plain": [
              "2      0.001701\n",
              "3     -0.015850\n",
              "4     -0.018213\n",
              "5     -0.055417\n",
              "6      0.024606\n",
              "         ...   \n",
              "495    0.431473\n",
              "496   -0.060472\n",
              "497   -0.020114\n",
              "498   -0.085246\n",
              "499    0.191975\n",
              "Name: lret_1, Length: 498, dtype: float64"
            ]
          },
          "execution_count": 241,
          "metadata": {},
          "output_type": "execute_result"
        }
      ],
      "source": [
        "two_assets['lret_1']"
      ]
    },
    {
      "cell_type": "code",
      "execution_count": 242,
      "metadata": {},
      "outputs": [
        {
          "data": {
            "image/png": "[encoded data removed]",
            "text/plain": [
              "<Figure size 432x288 with 1 Axes>"
            ]
          },
          "metadata": {
            "needs_background": "light"
          },
          "output_type": "display_data"
        },
        {
          "data": {
            "image/png": "[encoded data removed]",
            "text/plain": [
              "<Figure size 432x288 with 1 Axes>"
            ]
          },
          "metadata": {
            "needs_background": "light"
          },
          "output_type": "display_data"
        },
        {
          "data": {
            "image/png": "[encoded data removed]",
            "text/plain": [
              "<Figure size 432x288 with 1 Axes>"
            ]
          },
          "metadata": {
            "needs_background": "light"
          },
          "output_type": "display_data"
        },
        {
          "data": {
            "image/png": "[encoded data removed]",
            "text/plain": [
              "<Figure size 432x288 with 1 Axes>"
            ]
          },
          "metadata": {
            "needs_background": "light"
          },
          "output_type": "display_data"
        },
        {
          "data": {
            "image/png": "[encoded data removed]",
            "text/plain": [
              "<Figure size 432x288 with 1 Axes>"
            ]
          },
          "metadata": {
            "needs_background": "light"
          },
          "output_type": "display_data"
        }
      ],
      "source": [
        "# Create box plots for the logarithmic returns\n",
        "for item in two_assets.columns:\n",
        "    sns.boxplot(x=two_assets[item])\n",
        "    plt.show()"
      ]
    },
    {
      "cell_type": "markdown",
      "metadata": {},
      "source": [
        "### Q-Q Plot"
      ]
    },
    {
      "cell_type": "code",
      "execution_count": 243,
      "metadata": {},
      "outputs": [
        {
          "data": {
            "image/png": "[encoded data removed]",
            "text/plain": [
              "<Figure size 432x288 with 1 Axes>"
            ]
          },
          "metadata": {
            "needs_background": "light"
          },
          "output_type": "display_data"
        },
        {
          "data": {
            "image/png": "[encoded data removed]",
            "text/plain": [
              "<Figure size 432x288 with 1 Axes>"
            ]
          },
          "metadata": {
            "needs_background": "light"
          },
          "output_type": "display_data"
        },
        {
          "data": {
            "image/png": "[encoded data removed]",
            "text/plain": [
              "<Figure size 432x288 with 1 Axes>"
            ]
          },
          "metadata": {
            "needs_background": "light"
          },
          "output_type": "display_data"
        },
        {
          "data": {
            "image/png": "[encoded data removed]",
            "text/plain": [
              "<Figure size 432x288 with 1 Axes>"
            ]
          },
          "metadata": {
            "needs_background": "light"
          },
          "output_type": "display_data"
        }
      ],
      "source": [
        "import pylab\n",
        "import scipy.stats as stats\n",
        "\n",
        "lret_columns = ['lret_2', 'lret_3', 'lret_4', 'lret_5']\n",
        "for item in lret_columns:\n",
        "    stats.probplot(data[item], dist='norm', plot=pylab)\n",
        "    pylab.show()"
      ]
    },
    {
      "cell_type": "markdown",
      "metadata": {},
      "source": [
        "Only ticker 5 has logarithmic return distribution which is closer to normal distribution than the other tickers"
      ]
    },
    {
      "cell_type": "markdown",
      "metadata": {},
      "source": [
        "### Jarque-Bera Test"
      ]
    },
    {
      "cell_type": "code",
      "execution_count": 244,
      "metadata": {},
      "outputs": [
        {
          "name": "stdout",
          "output_type": "stream",
          "text": [
            "JB statistic: 154089.64887091733\n",
            "p-value: 0.0\n",
            "JB statistic: 34919.549848061055\n",
            "p-value: 0.0\n",
            "JB statistic: 125550.51250110341\n",
            "p-value: 0.0\n",
            "JB statistic: 823.9519461074314\n",
            "p-value: 0.0\n"
          ]
        }
      ],
      "source": [
        "from scipy.stats import jarque_bera\n",
        "\n",
        "for item in lret_columns:\n",
        "    result = (jarque_bera(data[item]))\n",
        "\n",
        "    print(f\"JB statistic: {result[0]}\")\n",
        "    print(f\"p-value: {result[1]}\")"
      ]
    },
    {
      "cell_type": "markdown",
      "metadata": {},
      "source": [
        "### Kolmogorov-Smirnov Test"
      ]
    },
    {
      "cell_type": "code",
      "execution_count": 245,
      "metadata": {},
      "outputs": [
        {
          "data": {
            "image/png": "[encoded data removed]",
            "text/plain": [
              "<Figure size 432x288 with 1 Axes>"
            ]
          },
          "metadata": {
            "needs_background": "light"
          },
          "output_type": "display_data"
        },
        {
          "data": {
            "image/png": "[encoded data removed]",
            "text/plain": [
              "<Figure size 432x288 with 1 Axes>"
            ]
          },
          "metadata": {
            "needs_background": "light"
          },
          "output_type": "display_data"
        },
        {
          "data": {
            "image/png": "[encoded data removed]",
            "text/plain": [
              "<Figure size 432x288 with 1 Axes>"
            ]
          },
          "metadata": {
            "needs_background": "light"
          },
          "output_type": "display_data"
        },
        {
          "data": {
            "image/png": "[encoded data removed]",
            "text/plain": [
              "<Figure size 432x288 with 1 Axes>"
            ]
          },
          "metadata": {
            "needs_background": "light"
          },
          "output_type": "display_data"
        }
      ],
      "source": [
        "for item in lret_columns:\n",
        "    data_norm = np.random.normal(np.mean(data[item]), np.std(data[item]), len(data))\n",
        "    values, base = np.histogram(data[item])\n",
        "    values_norm, base_norm = np.histogram(data_norm)\n",
        "    cumulative = np.cumsum(values)\n",
        "    cumulative_norm = np.cumsum(values_norm)\n",
        "\n",
        "    plt.plot(base[:-1], cumulative, c='blue')\n",
        "    plt.plot(base_norm[:-1], cumulative_norm, c='green')\n",
        "    plt.show()"
      ]
    },
    {
      "cell_type": "code",
      "execution_count": 246,
      "metadata": {},
      "outputs": [
        {
          "name": "stdout",
          "output_type": "stream",
          "text": [
            "K-S statistic: 0.3468235335211167\n",
            "p-value: 3.9365007233731445e-54\n",
            "K-S statistic: 0.4871268089034362\n",
            "p-value: 1.2655806477274108e-109\n",
            "K-S statistic: 0.4887630330247592\n",
            "p-value: 2.0833441261403397e-110\n",
            "K-S statistic: 0.4935949024681686\n",
            "p-value: 9.662005288105305e-113\n"
          ]
        }
      ],
      "source": [
        "from scipy.stats import kstest\n",
        "\n",
        "for item in lret_columns:\n",
        "    result = (kstest(data[item], cdf='norm'))\n",
        "\n",
        "    print(f\"K-S statistic: {result[0]}\")\n",
        "    print(f\"p-value: {result[1]}\")"
      ]
    },
    {
      "cell_type": "markdown",
      "metadata": {},
      "source": [
        "### Anderson-Darling"
      ]
    },
    {
      "cell_type": "code",
      "execution_count": 247,
      "metadata": {},
      "outputs": [
        {
          "name": "stdout",
          "output_type": "stream",
          "text": [
            "A-D statistic: 74.87214227712298\n",
            "Critical values: [0.571 0.651 0.781 0.911 1.083]\n",
            "Significance levels: [15.  10.   5.   2.5  1. ]\n",
            "A-D statistic: 16.532153410435512\n",
            "Critical values: [0.571 0.651 0.781 0.911 1.083]\n",
            "Significance levels: [15.  10.   5.   2.5  1. ]\n",
            "A-D statistic: 29.159721032391985\n",
            "Critical values: [0.571 0.651 0.781 0.911 1.083]\n",
            "Significance levels: [15.  10.   5.   2.5  1. ]\n",
            "A-D statistic: 10.727641985173193\n",
            "Critical values: [0.571 0.651 0.781 0.911 1.083]\n",
            "Significance levels: [15.  10.   5.   2.5  1. ]\n"
          ]
        }
      ],
      "source": [
        "from scipy.stats import anderson\n",
        "\n",
        "for item in lret_columns:\n",
        "    result = (anderson(data[item], dist='norm'))\n",
        "\n",
        "    print(f\"A-D statistic: {result[0]}\")\n",
        "    print(f\"Critical values: {result[1]}\")\n",
        "    print(f\"Significance levels: {result[2]}\")"
      ]
    },
    {
      "cell_type": "markdown",
      "metadata": {},
      "source": [
        "### Shapiro-Wilk Test"
      ]
    },
    {
      "cell_type": "code",
      "execution_count": 248,
      "metadata": {},
      "outputs": [
        {
          "name": "stdout",
          "output_type": "stream",
          "text": [
            "S-W statistic: 0.44127440452575684\n",
            "p-value: 1.3348383533820825e-36\n",
            "S-W statistic: 0.7644490599632263\n",
            "p-value: 4.0789476751867306e-26\n",
            "S-W statistic: 0.5960752964019775\n",
            "p-value: 1.9131182314576237e-32\n",
            "S-W statistic: 0.9080140590667725\n",
            "p-value: 8.238217960449194e-17\n"
          ]
        }
      ],
      "source": [
        "from scipy.stats import shapiro\n",
        "\n",
        "for item in lret_columns:\n",
        "    result = (shapiro(data[item]))\n",
        "\n",
        "    print(f\"S-W statistic: {result[0]}\")\n",
        "    print(f\"p-value: {result[1]}\")"
      ]
    },
    {
      "cell_type": "markdown",
      "metadata": {
        "id": "LlVcQko5q5OJ"
      },
      "source": [
        "# Task 2: Trading Alpha\n",
        "\n",
        "The goal of this portion of the project is to develop trading alpha(s) for the five (5) cryptocurrency tickers using technical indicators and support and resistance which will be fitted in a machine learning or deep learning algorithms to predict the logarithmic returns and buy/no trade decisions for each ticker. The performance of the machine learning algorithm would be then evaluated using various metrics.\n",
        "\n",
        "For simplicity, only ticker 1 would be considered for this part. But the general process of developing the trading alpha would be the same for all the tickers"
      ]
    },
    {
      "cell_type": "markdown",
      "metadata": {
        "id": "8qbR1KuTrxvB"
      },
      "source": [
        "## Feature Engineering"
      ]
    },
    {
      "cell_type": "markdown",
      "metadata": {
        "id": "9gRyL6Ef3X55"
      },
      "source": [
        "### Moving Average 9"
      ]
    },
    {
      "cell_type": "code",
      "execution_count": 249,
      "metadata": {
        "id": "zBnuNNlbq6Gj"
      },
      "outputs": [],
      "source": [
        "# Create another column for Moving Average 9 for ticker 1\n",
        "MA_9_1 = list()\n",
        "\n",
        "for value in data['Inst-1-close'][0:9]:\n",
        "  moving_average = 0.1\n",
        "  MA_9_1.append(moving_average)\n",
        "\n",
        "index = 0\n",
        "for value in data['Inst-1-close'][9:]:\n",
        "  moving_average = data['Inst-1-close'][index:index+8].mean()\n",
        "  MA_9_1.append(moving_average)\n",
        "  index += 1\n",
        "\n",
        "# Add the MA_9 column to the exisitng dataframe\n",
        "data['MA_9_1'] = pd.DataFrame(MA_9_1)"
      ]
    },
    {
      "cell_type": "markdown",
      "metadata": {
        "id": "sCOX-eND65Ep"
      },
      "source": [
        "### Moving Average 20"
      ]
    },
    {
      "cell_type": "code",
      "execution_count": 250,
      "metadata": {
        "id": "kAEi8nzq65Ew"
      },
      "outputs": [],
      "source": [
        "# Create another column for Moving Average 20 for ticker 1\n",
        "MA_20_1 = list()\n",
        "\n",
        "for value in data['Inst-1-close'][0:20]:\n",
        "  moving_average = 0.1\n",
        "  MA_20_1.append(moving_average)\n",
        "\n",
        "index = 0\n",
        "for value in data['Inst-1-close'][20:]:\n",
        "  moving_average = data['Inst-1-close'][index:index+19].mean()\n",
        "  MA_20_1.append(moving_average)\n",
        "  index += 1\n",
        "\n",
        "# Add the MA_20 column to the exisitng dataframe\n",
        "data['MA_20_1'] = pd.DataFrame(MA_20_1)"
      ]
    },
    {
      "cell_type": "markdown",
      "metadata": {
        "id": "pYtJguEh86yt"
      },
      "source": [
        "### Decision Matrix"
      ]
    },
    {
      "cell_type": "markdown",
      "metadata": {
        "id": "slUeoQf9C4YK"
      },
      "source": [
        "In this project, we will not be considering short selling, only buying the dips. If there is no market opportunity based on the matrix, the algorithm will enter 'No Trade'"
      ]
    },
    {
      "cell_type": "markdown",
      "metadata": {
        "id": "RxJ_yjVo2qoF"
      },
      "source": [
        "#### Ticker 1"
      ]
    },
    {
      "cell_type": "code",
      "execution_count": 251,
      "metadata": {
        "id": "us1Uz8V385Mn"
      },
      "outputs": [],
      "source": [
        "# Create a function for the initial decision matrix (Buy or Sell or No Trade) for ticker 1\n",
        "Decision_List_1 = data.loc[:, ['Inst-1-close', 'Inst-1-volume', 'MA_9_1', 'MA_20_1']].values.tolist()\n",
        "Decision_Tuple_1 = [tuple(each_list) for each_list in Decision_List_1]\n",
        "\n",
        "def Decision_1(close, volume, MA_9, MA_20):\n",
        "  if ((MA_20 - MA_9)/MA_9)*100 > 0.01 and volume > 20000:\n",
        "    return 'Buy'\n",
        "  elif ((MA_20 - MA_9)/MA_9)*100 > 0.01:\n",
        "    return 'Buy'\n",
        "\n",
        "  else:\n",
        "    return 'No Trade'"
      ]
    },
    {
      "cell_type": "code",
      "execution_count": 252,
      "metadata": {
        "id": "PdZtiunPvX1L"
      },
      "outputs": [],
      "source": [
        "# Add a Buy/Sell column for ticker 1\n",
        "Buy_Sell_1 = list()   # Initialize a list\n",
        "for tup in Decision_Tuple_1:\n",
        "  close, volume, MA_9, MA_20 = tup\n",
        "  result = Decision_1(close, volume, MA_9, MA_20)\n",
        "  Buy_Sell_1.append(result)\n",
        "\n",
        "data['decision_1'] = pd.DataFrame(Buy_Sell_1)"
      ]
    },
    {
      "cell_type": "markdown",
      "metadata": {
        "id": "aKeFPtSf2DoD"
      },
      "source": [
        "Repeat the process for the deicsion matrix for all the remaining tickers"
      ]
    },
    {
      "cell_type": "code",
      "execution_count": 253,
      "metadata": {
        "colab": {
          "base_uri": "https://localhost:8080/"
        },
        "id": "CwWhPRuv04H3",
        "outputId": "0fe03bca-b7fa-4388-ff08-c5a7a9632e5a"
      },
      "outputs": [
        {
          "data": {
            "text/plain": [
              "Buy         254\n",
              "No Trade    244\n",
              "Name: decision_1, dtype: int64"
            ]
          },
          "execution_count": 253,
          "metadata": {},
          "output_type": "execute_result"
        }
      ],
      "source": [
        "# Decision value counts for ticker 1\n",
        "data['decision_1'].value_counts()"
      ]
    },
    {
      "cell_type": "markdown",
      "metadata": {
        "id": "B-81tDDh4UYN"
      },
      "source": [
        "## Backtesting\n",
        "\n",
        "Backtesting is the term used in financial markets trading wherein a trading strategy is applied on historical data (candlestick chart). Corresponding metrics like winrate and total percentage gain or loss are then calculated from the backtesting result.\n",
        "For the sake of demonstration, only ticker 1 was backtested"
      ]
    },
    {
      "cell_type": "markdown",
      "metadata": {
        "id": "6y_yEA3T45sC"
      },
      "source": [
        "### Ticker 1"
      ]
    },
    {
      "cell_type": "markdown",
      "metadata": {
        "id": "32GdmDrz5uZs"
      },
      "source": [
        "The risk to reward:ratio was set to 1:2. Note that the SL and TP levels can be further optimized using machine learning algorithms or reinforcement learning algorithms which were not covered in this project."
      ]
    },
    {
      "cell_type": "code",
      "execution_count": 254,
      "metadata": {
        "id": "oMw0L66p4DU1"
      },
      "outputs": [],
      "source": [
        "# Create a function to determine the hit of each trade\n",
        "Close_List_1 = data.loc[:, ['decision_1', 'Inst-1-close', 'Inst-1-open', 'Inst-1-high', 'Inst-1-low']].values.tolist()\n",
        "Close_Tuple_1 = [tuple(item) for item in Close_List_1]\n",
        "\n",
        "def Hit_1(B_S, close, open, high, low):\n",
        "  for item in Close_Tuple_1:\n",
        "    if B_S == 'Buy':\n",
        "      for value in Close_Tuple_1:\n",
        "        close_index = 0\n",
        "        high_index = 0\n",
        "        low_index = 0\n",
        "        while open > 0:\n",
        "          if ((open - Close_Tuple_1[close_index][1]) / open) <= -0.75:\n",
        "            close_index += 1\n",
        "            return 'TP on Buy'\n",
        "            break\n",
        "          elif ((open - Close_Tuple_1[high_index][3]) / open) <= -0.75:\n",
        "            high_index += 1\n",
        "            return 'TP on Buy'\n",
        "            break\n",
        "          else:\n",
        "            if ((open - Close_Tuple_1[close_index][1]) / open) >= 0.375:\n",
        "              close_index += 1\n",
        "              return 'SL on Buy'\n",
        "              break\n",
        "            elif ((open - Close_Tuple_1[low_index][4]) / open) >= -0.375:\n",
        "              low_index += 1\n",
        "              return 'SL on Buy'\n",
        "              break\n",
        "\n",
        "            else:\n",
        "              close_index += 1\n",
        "              continue\n",
        "\n",
        "    elif B_S == 'No Trade':\n",
        "      return 'No Trade'\n",
        "\n",
        "    else:\n",
        "      return 'No Trade'"
      ]
    },
    {
      "cell_type": "code",
      "execution_count": 255,
      "metadata": {
        "id": "dEaE0deS6Iws"
      },
      "outputs": [],
      "source": [
        "# Add TP/SL column\n",
        "TP_SL_1 = list()   # Initialize a list\n",
        "\n",
        "for item in Close_Tuple_1:\n",
        "  B_S, close, open, high, low = item\n",
        "  result_1 = Hit_1(B_S, close, open, high, low)\n",
        "  TP_SL_1.append(result_1)\n",
        "\n",
        "data['hit_1'] = pd.DataFrame(TP_SL_1)"
      ]
    },
    {
      "cell_type": "code",
      "execution_count": 256,
      "metadata": {
        "colab": {
          "base_uri": "https://localhost:8080/"
        },
        "id": "HvOZBiKX6ZYB",
        "outputId": "82687992-5030-41c3-ed69-14cc20176d9f"
      },
      "outputs": [
        {
          "data": {
            "text/plain": [
              "No Trade     244\n",
              "TP on Buy    159\n",
              "SL on Buy     94\n",
              "Name: hit_1, dtype: int64"
            ]
          },
          "execution_count": 256,
          "metadata": {},
          "output_type": "execute_result"
        }
      ],
      "source": [
        "# Determine the value counts for hit_1 column\n",
        "data['hit_1'].value_counts()"
      ]
    },
    {
      "cell_type": "code",
      "execution_count": 257,
      "metadata": {
        "colab": {
          "base_uri": "https://localhost:8080/"
        },
        "id": "DcnSBr8x6x6j",
        "outputId": "68a42c40-f15c-432b-a37c-229805b057f9"
      },
      "outputs": [
        {
          "name": "stdout",
          "output_type": "stream",
          "text": [
            "62.845849802371546\n"
          ]
        }
      ],
      "source": [
        "# Determine the win rate for the backtest\n",
        "TP = data[data['hit_1']=='TP on Buy']['hit_1'].count() + data[data['hit_1']=='TP on Sell']['hit_1'].count()\n",
        "SL = data[data['hit_1']=='SL on Buy']['hit_1'].count() + data[data['hit_1']=='SL on Sell']['hit_1'].count()\n",
        "\n",
        "winrate = TP / (SL + TP) * 100\n",
        "print(winrate)"
      ]
    },
    {
      "cell_type": "markdown",
      "metadata": {
        "id": "nkdQXO4fHZ-3"
      },
      "source": [
        "## Simulation\n",
        "\n",
        "We will start qwith 100,000USD for the simulation trading. Every trade, we will risk 3% of every remaining capital."
      ]
    },
    {
      "cell_type": "code",
      "execution_count": 258,
      "metadata": {
        "colab": {
          "base_uri": "https://localhost:8080/",
          "height": 696
        },
        "id": "fcChvO0P7IAq",
        "outputId": "a25d91c7-104e-4690-ad12-5dbec47c9b66"
      },
      "outputs": [
        {
          "data": {
            "text/html": [
              "<div>\n",
              "<style scoped>\n",
              "    .dataframe tbody tr th:only-of-type {\n",
              "        vertical-align: middle;\n",
              "    }\n",
              "\n",
              "    .dataframe tbody tr th {\n",
              "        vertical-align: top;\n",
              "    }\n",
              "\n",
              "    .dataframe thead th {\n",
              "        text-align: right;\n",
              "    }\n",
              "</style>\n",
              "<table border=\"1\" class=\"dataframe\">\n",
              "  <thead>\n",
              "    <tr style=\"text-align: right;\">\n",
              "      <th></th>\n",
              "      <th>datetime</th>\n",
              "      <th>Inst-1-open</th>\n",
              "      <th>Inst-1-high</th>\n",
              "      <th>Inst-1-low</th>\n",
              "      <th>Inst-1-close</th>\n",
              "      <th>Inst-1-volume</th>\n",
              "      <th>Inst-2-open</th>\n",
              "      <th>Inst-2-high</th>\n",
              "      <th>Inst-2-low</th>\n",
              "      <th>Inst-2-close</th>\n",
              "      <th>...</th>\n",
              "      <th>Inst-5-volume</th>\n",
              "      <th>lret_1</th>\n",
              "      <th>lret_2</th>\n",
              "      <th>lret_3</th>\n",
              "      <th>lret_4</th>\n",
              "      <th>lret_5</th>\n",
              "      <th>MA_9_1</th>\n",
              "      <th>MA_20_1</th>\n",
              "      <th>decision_1</th>\n",
              "      <th>hit_1</th>\n",
              "    </tr>\n",
              "  </thead>\n",
              "  <tbody>\n",
              "    <tr>\n",
              "      <th>1</th>\n",
              "      <td>13-09-19 04:00:00</td>\n",
              "      <td>2250.6</td>\n",
              "      <td>2352.4</td>\n",
              "      <td>2215.6</td>\n",
              "      <td>2349.0</td>\n",
              "      <td>4839</td>\n",
              "      <td>60.817073</td>\n",
              "      <td>66.304878</td>\n",
              "      <td>58.048780</td>\n",
              "      <td>65.182927</td>\n",
              "      <td>...</td>\n",
              "      <td>6429</td>\n",
              "      <td>0.042793</td>\n",
              "      <td>0.069327</td>\n",
              "      <td>0.005385</td>\n",
              "      <td>0.003841</td>\n",
              "      <td>-0.000376</td>\n",
              "      <td>0.100</td>\n",
              "      <td>0.100000</td>\n",
              "      <td>No Trade</td>\n",
              "      <td>No Trade</td>\n",
              "    </tr>\n",
              "    <tr>\n",
              "      <th>2</th>\n",
              "      <td>13-09-19 05:00:00</td>\n",
              "      <td>2349.0</td>\n",
              "      <td>2368.8</td>\n",
              "      <td>2293.2</td>\n",
              "      <td>2353.0</td>\n",
              "      <td>2992</td>\n",
              "      <td>65.182927</td>\n",
              "      <td>67.280488</td>\n",
              "      <td>62.609756</td>\n",
              "      <td>64.048780</td>\n",
              "      <td>...</td>\n",
              "      <td>42143</td>\n",
              "      <td>0.001701</td>\n",
              "      <td>-0.017553</td>\n",
              "      <td>0.003878</td>\n",
              "      <td>0.000254</td>\n",
              "      <td>-0.000301</td>\n",
              "      <td>0.100</td>\n",
              "      <td>0.100000</td>\n",
              "      <td>No Trade</td>\n",
              "      <td>No Trade</td>\n",
              "    </tr>\n",
              "    <tr>\n",
              "      <th>3</th>\n",
              "      <td>13-09-19 06:00:00</td>\n",
              "      <td>2353.0</td>\n",
              "      <td>2369.2</td>\n",
              "      <td>2251.0</td>\n",
              "      <td>2316.0</td>\n",
              "      <td>5164</td>\n",
              "      <td>64.048780</td>\n",
              "      <td>65.841463</td>\n",
              "      <td>60.560976</td>\n",
              "      <td>61.256098</td>\n",
              "      <td>...</td>\n",
              "      <td>6429</td>\n",
              "      <td>-0.015850</td>\n",
              "      <td>-0.044582</td>\n",
              "      <td>-0.003747</td>\n",
              "      <td>-0.002455</td>\n",
              "      <td>0.001054</td>\n",
              "      <td>0.100</td>\n",
              "      <td>0.100000</td>\n",
              "      <td>No Trade</td>\n",
              "      <td>No Trade</td>\n",
              "    </tr>\n",
              "    <tr>\n",
              "      <th>4</th>\n",
              "      <td>13-09-19 07:00:00</td>\n",
              "      <td>2316.0</td>\n",
              "      <td>2329.8</td>\n",
              "      <td>2242.4</td>\n",
              "      <td>2274.2</td>\n",
              "      <td>2526</td>\n",
              "      <td>61.256098</td>\n",
              "      <td>61.695122</td>\n",
              "      <td>57.182927</td>\n",
              "      <td>59.000000</td>\n",
              "      <td>...</td>\n",
              "      <td>30714</td>\n",
              "      <td>-0.018213</td>\n",
              "      <td>-0.037526</td>\n",
              "      <td>-0.001748</td>\n",
              "      <td>0.000819</td>\n",
              "      <td>-0.002336</td>\n",
              "      <td>0.100</td>\n",
              "      <td>0.100000</td>\n",
              "      <td>No Trade</td>\n",
              "      <td>No Trade</td>\n",
              "    </tr>\n",
              "    <tr>\n",
              "      <th>5</th>\n",
              "      <td>13-09-19 08:00:00</td>\n",
              "      <td>2274.2</td>\n",
              "      <td>2379.8</td>\n",
              "      <td>2139.8</td>\n",
              "      <td>2151.6</td>\n",
              "      <td>5519</td>\n",
              "      <td>59.000000</td>\n",
              "      <td>63.573171</td>\n",
              "      <td>54.243902</td>\n",
              "      <td>54.621951</td>\n",
              "      <td>...</td>\n",
              "      <td>15000</td>\n",
              "      <td>-0.055417</td>\n",
              "      <td>-0.077102</td>\n",
              "      <td>-0.004646</td>\n",
              "      <td>-0.004498</td>\n",
              "      <td>0.001432</td>\n",
              "      <td>0.100</td>\n",
              "      <td>0.100000</td>\n",
              "      <td>No Trade</td>\n",
              "      <td>No Trade</td>\n",
              "    </tr>\n",
              "    <tr>\n",
              "      <th>...</th>\n",
              "      <td>...</td>\n",
              "      <td>...</td>\n",
              "      <td>...</td>\n",
              "      <td>...</td>\n",
              "      <td>...</td>\n",
              "      <td>...</td>\n",
              "      <td>...</td>\n",
              "      <td>...</td>\n",
              "      <td>...</td>\n",
              "      <td>...</td>\n",
              "      <td>...</td>\n",
              "      <td>...</td>\n",
              "      <td>...</td>\n",
              "      <td>...</td>\n",
              "      <td>...</td>\n",
              "      <td>...</td>\n",
              "      <td>...</td>\n",
              "      <td>...</td>\n",
              "      <td>...</td>\n",
              "      <td>...</td>\n",
              "      <td>...</td>\n",
              "    </tr>\n",
              "    <tr>\n",
              "      <th>495</th>\n",
              "      <td>03-10-19 18:00:00</td>\n",
              "      <td>318.8</td>\n",
              "      <td>534.0</td>\n",
              "      <td>318.8</td>\n",
              "      <td>490.8</td>\n",
              "      <td>3499</td>\n",
              "      <td>41.000000</td>\n",
              "      <td>51.975610</td>\n",
              "      <td>41.012195</td>\n",
              "      <td>49.573171</td>\n",
              "      <td>...</td>\n",
              "      <td>33571</td>\n",
              "      <td>0.431473</td>\n",
              "      <td>0.189878</td>\n",
              "      <td>0.003320</td>\n",
              "      <td>0.007817</td>\n",
              "      <td>0.004126</td>\n",
              "      <td>292.300</td>\n",
              "      <td>302.063158</td>\n",
              "      <td>No Trade</td>\n",
              "      <td>TP on Buy</td>\n",
              "    </tr>\n",
              "    <tr>\n",
              "      <th>496</th>\n",
              "      <td>03-10-19 19:00:00</td>\n",
              "      <td>490.8</td>\n",
              "      <td>627.0</td>\n",
              "      <td>391.4</td>\n",
              "      <td>462.0</td>\n",
              "      <td>5327</td>\n",
              "      <td>49.573171</td>\n",
              "      <td>54.268293</td>\n",
              "      <td>43.536585</td>\n",
              "      <td>46.621951</td>\n",
              "      <td>...</td>\n",
              "      <td>27143</td>\n",
              "      <td>-0.060472</td>\n",
              "      <td>-0.061378</td>\n",
              "      <td>-0.000095</td>\n",
              "      <td>-0.006782</td>\n",
              "      <td>-0.002604</td>\n",
              "      <td>320.025</td>\n",
              "      <td>301.768421</td>\n",
              "      <td>Buy</td>\n",
              "      <td>No Trade</td>\n",
              "    </tr>\n",
              "    <tr>\n",
              "      <th>497</th>\n",
              "      <td>03-10-19 20:00:00</td>\n",
              "      <td>462.0</td>\n",
              "      <td>513.6</td>\n",
              "      <td>406.6</td>\n",
              "      <td>452.8</td>\n",
              "      <td>1011</td>\n",
              "      <td>46.621951</td>\n",
              "      <td>53.073171</td>\n",
              "      <td>45.158537</td>\n",
              "      <td>49.134146</td>\n",
              "      <td>...</td>\n",
              "      <td>18571</td>\n",
              "      <td>-0.020114</td>\n",
              "      <td>0.052483</td>\n",
              "      <td>-0.001754</td>\n",
              "      <td>0.001521</td>\n",
              "      <td>0.002170</td>\n",
              "      <td>265.850</td>\n",
              "      <td>305.084211</td>\n",
              "      <td>No Trade</td>\n",
              "      <td>No Trade</td>\n",
              "    </tr>\n",
              "    <tr>\n",
              "      <th>498</th>\n",
              "      <td>03-10-19 21:00:00</td>\n",
              "      <td>452.8</td>\n",
              "      <td>481.2</td>\n",
              "      <td>354.2</td>\n",
              "      <td>415.8</td>\n",
              "      <td>1807</td>\n",
              "      <td>49.134146</td>\n",
              "      <td>52.585366</td>\n",
              "      <td>44.756098</td>\n",
              "      <td>48.804878</td>\n",
              "      <td>...</td>\n",
              "      <td>31429</td>\n",
              "      <td>-0.085246</td>\n",
              "      <td>-0.006724</td>\n",
              "      <td>-0.000997</td>\n",
              "      <td>-0.006587</td>\n",
              "      <td>0.001661</td>\n",
              "      <td>322.475</td>\n",
              "      <td>315.168421</td>\n",
              "      <td>No Trade</td>\n",
              "      <td>No Trade</td>\n",
              "    </tr>\n",
              "    <tr>\n",
              "      <th>499</th>\n",
              "      <td>03-10-19 22:00:00</td>\n",
              "      <td>415.8</td>\n",
              "      <td>555.4</td>\n",
              "      <td>305.4</td>\n",
              "      <td>503.8</td>\n",
              "      <td>8535</td>\n",
              "      <td>48.804878</td>\n",
              "      <td>62.390244</td>\n",
              "      <td>44.536585</td>\n",
              "      <td>56.439024</td>\n",
              "      <td>...</td>\n",
              "      <td>28571</td>\n",
              "      <td>0.191975</td>\n",
              "      <td>0.145331</td>\n",
              "      <td>0.004076</td>\n",
              "      <td>0.004808</td>\n",
              "      <td>0.003241</td>\n",
              "      <td>NaN</td>\n",
              "      <td>NaN</td>\n",
              "      <td>NaN</td>\n",
              "      <td>NaN</td>\n",
              "    </tr>\n",
              "  </tbody>\n",
              "</table>\n",
              "<p>499 rows × 35 columns</p>\n",
              "</div>"
            ],
            "text/plain": [
              "              datetime  Inst-1-open  Inst-1-high  Inst-1-low  Inst-1-close  \\\n",
              "1    13-09-19 04:00:00       2250.6       2352.4      2215.6        2349.0   \n",
              "2    13-09-19 05:00:00       2349.0       2368.8      2293.2        2353.0   \n",
              "3    13-09-19 06:00:00       2353.0       2369.2      2251.0        2316.0   \n",
              "4    13-09-19 07:00:00       2316.0       2329.8      2242.4        2274.2   \n",
              "5    13-09-19 08:00:00       2274.2       2379.8      2139.8        2151.6   \n",
              "..                 ...          ...          ...         ...           ...   \n",
              "495  03-10-19 18:00:00        318.8        534.0       318.8         490.8   \n",
              "496  03-10-19 19:00:00        490.8        627.0       391.4         462.0   \n",
              "497  03-10-19 20:00:00        462.0        513.6       406.6         452.8   \n",
              "498  03-10-19 21:00:00        452.8        481.2       354.2         415.8   \n",
              "499  03-10-19 22:00:00        415.8        555.4       305.4         503.8   \n",
              "\n",
              "     Inst-1-volume  Inst-2-open  Inst-2-high  Inst-2-low  Inst-2-close  ...  \\\n",
              "1             4839    60.817073    66.304878   58.048780     65.182927  ...   \n",
              "2             2992    65.182927    67.280488   62.609756     64.048780  ...   \n",
              "3             5164    64.048780    65.841463   60.560976     61.256098  ...   \n",
              "4             2526    61.256098    61.695122   57.182927     59.000000  ...   \n",
              "5             5519    59.000000    63.573171   54.243902     54.621951  ...   \n",
              "..             ...          ...          ...         ...           ...  ...   \n",
              "495           3499    41.000000    51.975610   41.012195     49.573171  ...   \n",
              "496           5327    49.573171    54.268293   43.536585     46.621951  ...   \n",
              "497           1011    46.621951    53.073171   45.158537     49.134146  ...   \n",
              "498           1807    49.134146    52.585366   44.756098     48.804878  ...   \n",
              "499           8535    48.804878    62.390244   44.536585     56.439024  ...   \n",
              "\n",
              "     Inst-5-volume    lret_1    lret_2    lret_3    lret_4    lret_5   MA_9_1  \\\n",
              "1             6429  0.042793  0.069327  0.005385  0.003841 -0.000376    0.100   \n",
              "2            42143  0.001701 -0.017553  0.003878  0.000254 -0.000301    0.100   \n",
              "3             6429 -0.015850 -0.044582 -0.003747 -0.002455  0.001054    0.100   \n",
              "4            30714 -0.018213 -0.037526 -0.001748  0.000819 -0.002336    0.100   \n",
              "5            15000 -0.055417 -0.077102 -0.004646 -0.004498  0.001432    0.100   \n",
              "..             ...       ...       ...       ...       ...       ...      ...   \n",
              "495          33571  0.431473  0.189878  0.003320  0.007817  0.004126  292.300   \n",
              "496          27143 -0.060472 -0.061378 -0.000095 -0.006782 -0.002604  320.025   \n",
              "497          18571 -0.020114  0.052483 -0.001754  0.001521  0.002170  265.850   \n",
              "498          31429 -0.085246 -0.006724 -0.000997 -0.006587  0.001661  322.475   \n",
              "499          28571  0.191975  0.145331  0.004076  0.004808  0.003241      NaN   \n",
              "\n",
              "        MA_20_1  decision_1      hit_1  \n",
              "1      0.100000    No Trade   No Trade  \n",
              "2      0.100000    No Trade   No Trade  \n",
              "3      0.100000    No Trade   No Trade  \n",
              "4      0.100000    No Trade   No Trade  \n",
              "5      0.100000    No Trade   No Trade  \n",
              "..          ...         ...        ...  \n",
              "495  302.063158    No Trade  TP on Buy  \n",
              "496  301.768421         Buy   No Trade  \n",
              "497  305.084211    No Trade   No Trade  \n",
              "498  315.168421    No Trade   No Trade  \n",
              "499         NaN         NaN        NaN  \n",
              "\n",
              "[499 rows x 35 columns]"
            ]
          },
          "execution_count": 258,
          "metadata": {},
          "output_type": "execute_result"
        }
      ],
      "source": [
        "# View the data\n",
        "data"
      ]
    },
    {
      "cell_type": "code",
      "execution_count": 259,
      "metadata": {
        "colab": {
          "base_uri": "https://localhost:8080/",
          "height": 635
        },
        "id": "agJ9o7LzIH-i",
        "outputId": "c6498e38-dbeb-45c9-b91f-950cf60c25ad"
      },
      "outputs": [
        {
          "data": {
            "text/html": [
              "<div>\n",
              "<style scoped>\n",
              "    .dataframe tbody tr th:only-of-type {\n",
              "        vertical-align: middle;\n",
              "    }\n",
              "\n",
              "    .dataframe tbody tr th {\n",
              "        vertical-align: top;\n",
              "    }\n",
              "\n",
              "    .dataframe thead th {\n",
              "        text-align: right;\n",
              "    }\n",
              "</style>\n",
              "<table border=\"1\" class=\"dataframe\">\n",
              "  <thead>\n",
              "    <tr style=\"text-align: right;\">\n",
              "      <th></th>\n",
              "      <th>datetime</th>\n",
              "      <th>Inst-1-open</th>\n",
              "      <th>Inst-1-high</th>\n",
              "      <th>Inst-1-low</th>\n",
              "      <th>Inst-1-close</th>\n",
              "      <th>Inst-1-volume</th>\n",
              "      <th>Inst-2-open</th>\n",
              "      <th>Inst-2-high</th>\n",
              "      <th>Inst-2-low</th>\n",
              "      <th>Inst-2-close</th>\n",
              "      <th>...</th>\n",
              "      <th>lret_1</th>\n",
              "      <th>lret_2</th>\n",
              "      <th>lret_3</th>\n",
              "      <th>lret_4</th>\n",
              "      <th>lret_5</th>\n",
              "      <th>MA_9_1</th>\n",
              "      <th>MA_20_1</th>\n",
              "      <th>decision_1</th>\n",
              "      <th>hit_1</th>\n",
              "      <th>profit</th>\n",
              "    </tr>\n",
              "  </thead>\n",
              "  <tbody>\n",
              "    <tr>\n",
              "      <th>1</th>\n",
              "      <td>13-09-19 04:00:00</td>\n",
              "      <td>2250.6</td>\n",
              "      <td>2352.4</td>\n",
              "      <td>2215.6</td>\n",
              "      <td>2349.0</td>\n",
              "      <td>4839</td>\n",
              "      <td>60.817073</td>\n",
              "      <td>66.304878</td>\n",
              "      <td>58.048780</td>\n",
              "      <td>65.182927</td>\n",
              "      <td>...</td>\n",
              "      <td>0.042793</td>\n",
              "      <td>0.069327</td>\n",
              "      <td>0.005385</td>\n",
              "      <td>0.003841</td>\n",
              "      <td>-0.000376</td>\n",
              "      <td>0.100</td>\n",
              "      <td>0.1</td>\n",
              "      <td>No Trade</td>\n",
              "      <td>No Trade</td>\n",
              "      <td>0.0</td>\n",
              "    </tr>\n",
              "    <tr>\n",
              "      <th>2</th>\n",
              "      <td>13-09-19 05:00:00</td>\n",
              "      <td>2349.0</td>\n",
              "      <td>2368.8</td>\n",
              "      <td>2293.2</td>\n",
              "      <td>2353.0</td>\n",
              "      <td>2992</td>\n",
              "      <td>65.182927</td>\n",
              "      <td>67.280488</td>\n",
              "      <td>62.609756</td>\n",
              "      <td>64.048780</td>\n",
              "      <td>...</td>\n",
              "      <td>0.001701</td>\n",
              "      <td>-0.017553</td>\n",
              "      <td>0.003878</td>\n",
              "      <td>0.000254</td>\n",
              "      <td>-0.000301</td>\n",
              "      <td>0.100</td>\n",
              "      <td>0.1</td>\n",
              "      <td>No Trade</td>\n",
              "      <td>No Trade</td>\n",
              "      <td>0.0</td>\n",
              "    </tr>\n",
              "    <tr>\n",
              "      <th>3</th>\n",
              "      <td>13-09-19 06:00:00</td>\n",
              "      <td>2353.0</td>\n",
              "      <td>2369.2</td>\n",
              "      <td>2251.0</td>\n",
              "      <td>2316.0</td>\n",
              "      <td>5164</td>\n",
              "      <td>64.048780</td>\n",
              "      <td>65.841463</td>\n",
              "      <td>60.560976</td>\n",
              "      <td>61.256098</td>\n",
              "      <td>...</td>\n",
              "      <td>-0.015850</td>\n",
              "      <td>-0.044582</td>\n",
              "      <td>-0.003747</td>\n",
              "      <td>-0.002455</td>\n",
              "      <td>0.001054</td>\n",
              "      <td>0.100</td>\n",
              "      <td>0.1</td>\n",
              "      <td>No Trade</td>\n",
              "      <td>No Trade</td>\n",
              "      <td>0.0</td>\n",
              "    </tr>\n",
              "    <tr>\n",
              "      <th>4</th>\n",
              "      <td>13-09-19 07:00:00</td>\n",
              "      <td>2316.0</td>\n",
              "      <td>2329.8</td>\n",
              "      <td>2242.4</td>\n",
              "      <td>2274.2</td>\n",
              "      <td>2526</td>\n",
              "      <td>61.256098</td>\n",
              "      <td>61.695122</td>\n",
              "      <td>57.182927</td>\n",
              "      <td>59.000000</td>\n",
              "      <td>...</td>\n",
              "      <td>-0.018213</td>\n",
              "      <td>-0.037526</td>\n",
              "      <td>-0.001748</td>\n",
              "      <td>0.000819</td>\n",
              "      <td>-0.002336</td>\n",
              "      <td>0.100</td>\n",
              "      <td>0.1</td>\n",
              "      <td>No Trade</td>\n",
              "      <td>No Trade</td>\n",
              "      <td>0.0</td>\n",
              "    </tr>\n",
              "    <tr>\n",
              "      <th>5</th>\n",
              "      <td>13-09-19 08:00:00</td>\n",
              "      <td>2274.2</td>\n",
              "      <td>2379.8</td>\n",
              "      <td>2139.8</td>\n",
              "      <td>2151.6</td>\n",
              "      <td>5519</td>\n",
              "      <td>59.000000</td>\n",
              "      <td>63.573171</td>\n",
              "      <td>54.243902</td>\n",
              "      <td>54.621951</td>\n",
              "      <td>...</td>\n",
              "      <td>-0.055417</td>\n",
              "      <td>-0.077102</td>\n",
              "      <td>-0.004646</td>\n",
              "      <td>-0.004498</td>\n",
              "      <td>0.001432</td>\n",
              "      <td>0.100</td>\n",
              "      <td>0.1</td>\n",
              "      <td>No Trade</td>\n",
              "      <td>No Trade</td>\n",
              "      <td>0.0</td>\n",
              "    </tr>\n",
              "    <tr>\n",
              "      <th>6</th>\n",
              "      <td>13-09-19 09:00:00</td>\n",
              "      <td>2151.6</td>\n",
              "      <td>2214.8</td>\n",
              "      <td>2062.4</td>\n",
              "      <td>2205.2</td>\n",
              "      <td>5210</td>\n",
              "      <td>54.621951</td>\n",
              "      <td>57.792683</td>\n",
              "      <td>51.658537</td>\n",
              "      <td>57.634146</td>\n",
              "      <td>...</td>\n",
              "      <td>0.024606</td>\n",
              "      <td>0.053679</td>\n",
              "      <td>0.001493</td>\n",
              "      <td>0.001700</td>\n",
              "      <td>0.000527</td>\n",
              "      <td>0.100</td>\n",
              "      <td>0.1</td>\n",
              "      <td>No Trade</td>\n",
              "      <td>No Trade</td>\n",
              "      <td>0.0</td>\n",
              "    </tr>\n",
              "    <tr>\n",
              "      <th>7</th>\n",
              "      <td>13-09-19 10:00:00</td>\n",
              "      <td>2205.2</td>\n",
              "      <td>2214.4</td>\n",
              "      <td>2030.0</td>\n",
              "      <td>2165.8</td>\n",
              "      <td>5456</td>\n",
              "      <td>57.634146</td>\n",
              "      <td>58.853659</td>\n",
              "      <td>52.682927</td>\n",
              "      <td>57.195122</td>\n",
              "      <td>...</td>\n",
              "      <td>-0.018028</td>\n",
              "      <td>-0.007647</td>\n",
              "      <td>-0.000351</td>\n",
              "      <td>-0.003516</td>\n",
              "      <td>0.000301</td>\n",
              "      <td>0.100</td>\n",
              "      <td>0.1</td>\n",
              "      <td>No Trade</td>\n",
              "      <td>No Trade</td>\n",
              "      <td>0.0</td>\n",
              "    </tr>\n",
              "    <tr>\n",
              "      <th>8</th>\n",
              "      <td>13-09-19 11:00:00</td>\n",
              "      <td>2165.8</td>\n",
              "      <td>2184.2</td>\n",
              "      <td>1774.2</td>\n",
              "      <td>1872.6</td>\n",
              "      <td>18995</td>\n",
              "      <td>57.195122</td>\n",
              "      <td>57.609756</td>\n",
              "      <td>37.841463</td>\n",
              "      <td>39.914634</td>\n",
              "      <td>...</td>\n",
              "      <td>-0.145462</td>\n",
              "      <td>-0.359726</td>\n",
              "      <td>-0.013921</td>\n",
              "      <td>-0.009418</td>\n",
              "      <td>-0.002940</td>\n",
              "      <td>0.100</td>\n",
              "      <td>0.1</td>\n",
              "      <td>No Trade</td>\n",
              "      <td>No Trade</td>\n",
              "      <td>0.0</td>\n",
              "    </tr>\n",
              "    <tr>\n",
              "      <th>9</th>\n",
              "      <td>13-09-19 12:00:00</td>\n",
              "      <td>1872.6</td>\n",
              "      <td>1900.0</td>\n",
              "      <td>1757.4</td>\n",
              "      <td>1837.4</td>\n",
              "      <td>11265</td>\n",
              "      <td>39.914634</td>\n",
              "      <td>40.304878</td>\n",
              "      <td>32.682927</td>\n",
              "      <td>35.792683</td>\n",
              "      <td>...</td>\n",
              "      <td>-0.018976</td>\n",
              "      <td>-0.109000</td>\n",
              "      <td>-0.007684</td>\n",
              "      <td>-0.004454</td>\n",
              "      <td>-0.000377</td>\n",
              "      <td>2210.925</td>\n",
              "      <td>0.1</td>\n",
              "      <td>No Trade</td>\n",
              "      <td>No Trade</td>\n",
              "      <td>0.0</td>\n",
              "    </tr>\n",
              "    <tr>\n",
              "      <th>10</th>\n",
              "      <td>13-09-19 13:00:00</td>\n",
              "      <td>1837.4</td>\n",
              "      <td>1859.0</td>\n",
              "      <td>1698.4</td>\n",
              "      <td>1738.0</td>\n",
              "      <td>9828</td>\n",
              "      <td>35.792683</td>\n",
              "      <td>37.500000</td>\n",
              "      <td>27.597561</td>\n",
              "      <td>30.036585</td>\n",
              "      <td>...</td>\n",
              "      <td>-0.055617</td>\n",
              "      <td>-0.175327</td>\n",
              "      <td>-0.003414</td>\n",
              "      <td>-0.008504</td>\n",
              "      <td>-0.002117</td>\n",
              "      <td>2146.975</td>\n",
              "      <td>0.1</td>\n",
              "      <td>No Trade</td>\n",
              "      <td>No Trade</td>\n",
              "      <td>0.0</td>\n",
              "    </tr>\n",
              "  </tbody>\n",
              "</table>\n",
              "<p>10 rows × 36 columns</p>\n",
              "</div>"
            ],
            "text/plain": [
              "             datetime  Inst-1-open  Inst-1-high  Inst-1-low  Inst-1-close  \\\n",
              "1   13-09-19 04:00:00       2250.6       2352.4      2215.6        2349.0   \n",
              "2   13-09-19 05:00:00       2349.0       2368.8      2293.2        2353.0   \n",
              "3   13-09-19 06:00:00       2353.0       2369.2      2251.0        2316.0   \n",
              "4   13-09-19 07:00:00       2316.0       2329.8      2242.4        2274.2   \n",
              "5   13-09-19 08:00:00       2274.2       2379.8      2139.8        2151.6   \n",
              "6   13-09-19 09:00:00       2151.6       2214.8      2062.4        2205.2   \n",
              "7   13-09-19 10:00:00       2205.2       2214.4      2030.0        2165.8   \n",
              "8   13-09-19 11:00:00       2165.8       2184.2      1774.2        1872.6   \n",
              "9   13-09-19 12:00:00       1872.6       1900.0      1757.4        1837.4   \n",
              "10  13-09-19 13:00:00       1837.4       1859.0      1698.4        1738.0   \n",
              "\n",
              "    Inst-1-volume  Inst-2-open  Inst-2-high  Inst-2-low  Inst-2-close  ...  \\\n",
              "1            4839    60.817073    66.304878   58.048780     65.182927  ...   \n",
              "2            2992    65.182927    67.280488   62.609756     64.048780  ...   \n",
              "3            5164    64.048780    65.841463   60.560976     61.256098  ...   \n",
              "4            2526    61.256098    61.695122   57.182927     59.000000  ...   \n",
              "5            5519    59.000000    63.573171   54.243902     54.621951  ...   \n",
              "6            5210    54.621951    57.792683   51.658537     57.634146  ...   \n",
              "7            5456    57.634146    58.853659   52.682927     57.195122  ...   \n",
              "8           18995    57.195122    57.609756   37.841463     39.914634  ...   \n",
              "9           11265    39.914634    40.304878   32.682927     35.792683  ...   \n",
              "10           9828    35.792683    37.500000   27.597561     30.036585  ...   \n",
              "\n",
              "      lret_1    lret_2    lret_3    lret_4    lret_5    MA_9_1  MA_20_1  \\\n",
              "1   0.042793  0.069327  0.005385  0.003841 -0.000376     0.100      0.1   \n",
              "2   0.001701 -0.017553  0.003878  0.000254 -0.000301     0.100      0.1   \n",
              "3  -0.015850 -0.044582 -0.003747 -0.002455  0.001054     0.100      0.1   \n",
              "4  -0.018213 -0.037526 -0.001748  0.000819 -0.002336     0.100      0.1   \n",
              "5  -0.055417 -0.077102 -0.004646 -0.004498  0.001432     0.100      0.1   \n",
              "6   0.024606  0.053679  0.001493  0.001700  0.000527     0.100      0.1   \n",
              "7  -0.018028 -0.007647 -0.000351 -0.003516  0.000301     0.100      0.1   \n",
              "8  -0.145462 -0.359726 -0.013921 -0.009418 -0.002940     0.100      0.1   \n",
              "9  -0.018976 -0.109000 -0.007684 -0.004454 -0.000377  2210.925      0.1   \n",
              "10 -0.055617 -0.175327 -0.003414 -0.008504 -0.002117  2146.975      0.1   \n",
              "\n",
              "    decision_1     hit_1  profit  \n",
              "1     No Trade  No Trade     0.0  \n",
              "2     No Trade  No Trade     0.0  \n",
              "3     No Trade  No Trade     0.0  \n",
              "4     No Trade  No Trade     0.0  \n",
              "5     No Trade  No Trade     0.0  \n",
              "6     No Trade  No Trade     0.0  \n",
              "7     No Trade  No Trade     0.0  \n",
              "8     No Trade  No Trade     0.0  \n",
              "9     No Trade  No Trade     0.0  \n",
              "10    No Trade  No Trade     0.0  \n",
              "\n",
              "[10 rows x 36 columns]"
            ]
          },
          "execution_count": 259,
          "metadata": {},
          "output_type": "execute_result"
        }
      ],
      "source": [
        "# Create a column for profits\n",
        "trades = [0]\n",
        "\n",
        "for item in data['hit_1']:\n",
        "  balance = 100000\n",
        "  trade_index = 0\n",
        "  if item == 'No Trade':\n",
        "    balance = balance + trades[trade_index - 1]\n",
        "    trade = balance * 0\n",
        "    trades.append(trade)\n",
        "    trade_index += 1\n",
        "\n",
        "  elif item == 'TP on Buy':\n",
        "    balance = balance + trades[trade_index - 1]\n",
        "    trade = balance * 0.03 * 0.75\n",
        "    trades.append(trade)\n",
        "    trade_index += 1\n",
        "\n",
        "  else:\n",
        "    if item == 'SL on Buy':\n",
        "      balance = balance + trades[trade_index - 1]\n",
        "      trade = balance * 0.03 * -0.375\n",
        "      trades.append(trade)\n",
        "      trade_index += 1\n",
        "    \n",
        "    else:\n",
        "      continue\n",
        "\n",
        "# Create another column for trades\n",
        "data['profit'] =  pd.DataFrame(trades)\n",
        "data.head(10)"
      ]
    },
    {
      "cell_type": "code",
      "execution_count": 260,
      "metadata": {
        "colab": {
          "base_uri": "https://localhost:8080/"
        },
        "id": "AfXaRopW7Nc_",
        "outputId": "f6673227-b97a-4cc9-f954-3fdba2880512"
      },
      "outputs": [
        {
          "name": "stdout",
          "output_type": "stream",
          "text": [
            "The %Pnl is 360.12482966120365%\n",
            "The total Pnl is 260124.8296612037USD\n"
          ]
        }
      ],
      "source": [
        "# Determine the %PnL and total PnL\n",
        "percent_pnl = ((data['profit'].sum() + 100000)/100000)*100\n",
        "\n",
        "total_pnl = data['profit'].sum()\n",
        "\n",
        "print(f'The %Pnl is {percent_pnl}%')\n",
        "print(f'The total Pnl is {total_pnl}USD')"
      ]
    },
    {
      "cell_type": "code",
      "execution_count": 261,
      "metadata": {},
      "outputs": [
        {
          "data": {
            "text/plain": [
              "Text(0, 0.5, 'Profit')"
            ]
          },
          "execution_count": 261,
          "metadata": {},
          "output_type": "execute_result"
        },
        {
          "data": {
            "image/png": "[encoded data removed]",
            "text/plain": [
              "<Figure size 432x288 with 1 Axes>"
            ]
          },
          "metadata": {
            "needs_background": "light"
          },
          "output_type": "display_data"
        }
      ],
      "source": [
        "# Plot the profits over time\n",
        "sns.lineplot(x=data['datetime'], y=data['profit'])\n",
        "plt.xlabel('Date')\n",
        "plt.ylabel('Profit')"
      ]
    },
    {
      "cell_type": "code",
      "execution_count": 262,
      "metadata": {},
      "outputs": [],
      "source": [
        "# Export the decision_1 dataframe to excel\n",
        "data['decision_1'].to_excel('trade_ticker1.xlsx', sheet_name='decision')"
      ]
    },
    {
      "cell_type": "markdown",
      "metadata": {
        "id": "6sRWmCWXNfv4"
      },
      "source": [
        "## Machine Learning"
      ]
    },
    {
      "cell_type": "markdown",
      "metadata": {},
      "source": [
        "We will try to use Artificial Neural Network in modelling the logairthmic returns since the tickers are extremely volatile in nature."
      ]
    },
    {
      "cell_type": "markdown",
      "metadata": {
        "id": "OB5PlMlLNv1B"
      },
      "source": [
        "### Artificial Neural Network"
      ]
    },
    {
      "cell_type": "code",
      "execution_count": 263,
      "metadata": {
        "id": "ypStLoBBTTTC"
      },
      "outputs": [],
      "source": [
        "data.dropna(inplace=True)"
      ]
    },
    {
      "cell_type": "code",
      "execution_count": 264,
      "metadata": {},
      "outputs": [],
      "source": [
        "# Import model\n",
        "from tensorflow.keras.models import Sequential\n",
        "from tensorflow.keras.layers import Dense"
      ]
    },
    {
      "cell_type": "code",
      "execution_count": 265,
      "metadata": {
        "id": "zHKq_EUmNCkF"
      },
      "outputs": [],
      "source": [
        "# Define and X and y\n",
        "X = data[['Inst-1-open', 'Inst-1-high', 'Inst-1-low', 'Inst-1-close', 'Inst-1-volume', 'MA_9_1', 'MA_20_1', 'decision_1']]\n",
        "y = data['lret_1']\n",
        "\n",
        "# Split the data\n",
        "X_train, X_test, y_train, y_test = train_test_split(X, y, random_state=101)"
      ]
    },
    {
      "cell_type": "code",
      "execution_count": 266,
      "metadata": {
        "id": "p0iaMbSzPAAF"
      },
      "outputs": [],
      "source": [
        "# Select columns\n",
        "cat_selector = make_column_selector(dtype_include='object')\n",
        "num_selector = make_column_selector(dtype_include='number')\n",
        "\n",
        "cat_columns_train = cat_selector(X_train)\n",
        "cat_columns_test = cat_selector(X_test)\n",
        "num_columns_train = num_selector(X_train)\n",
        "num_columns_test = num_selector(X_test)\n",
        "\n",
        "cat_data_train = X_train[cat_columns_train]\n",
        "cat_data_test = X_test[cat_columns_test]\n",
        "num_data_train = X_train[num_columns_train]\n",
        "num_data_test = X_test[num_columns_test]\n",
        "\n",
        "# Instantiate OneHotEncoder\n",
        "ohe = OneHotEncoder(sparse=False, handle_unknown='ignore')\n",
        "\n",
        "# Fit and transform using ohe\n",
        "ohe_train = ohe.fit_transform(cat_data_train)\n",
        "ohe_test = ohe.transform(cat_data_test)\n",
        "\n",
        "# Instantiate scaler\n",
        "scaler = StandardScaler()\n",
        "\n",
        "# Fit and transform to the Xtrain and Xtest\n",
        "train_scale = scaler.fit_transform(num_data_train)\n",
        "test_scale = scaler.transform(num_data_test)\n",
        "\n",
        "# Make imputer pipeline for imputer, scaler and ohe\n",
        "pipe = make_pipeline(ohe, scaler)"
      ]
    },
    {
      "cell_type": "code",
      "execution_count": 267,
      "metadata": {
        "id": "2S9Fkb6UQNge"
      },
      "outputs": [],
      "source": [
        "# Make a column transformer\n",
        "preprocessor = ColumnTransformer(\n",
        "    transformers=[\n",
        "        ('num', pipe, num_selector), \n",
        "        (\"cat\", pipe, cat_selector)\n",
        "    ]\n",
        ")"
      ]
    },
    {
      "cell_type": "code",
      "execution_count": 268,
      "metadata": {
        "id": "LwMfnLBtRNw0"
      },
      "outputs": [],
      "source": [
        "# Fit with the Xtrain\n",
        "X_train = pd.DataFrame(preprocessor.fit_transform(X_train))\n",
        "\n",
        "# Fit transformer with the Xtest\n",
        "X_test = pd.DataFrame(preprocessor.transform(X_test))"
      ]
    },
    {
      "cell_type": "code",
      "execution_count": 269,
      "metadata": {},
      "outputs": [
        {
          "data": {
            "text/plain": [
              "2545"
            ]
          },
          "execution_count": 269,
          "metadata": {},
          "output_type": "execute_result"
        }
      ],
      "source": [
        "# Step 1: Define our network structure\n",
        "# Save the number of features we have as our input shape\n",
        "input_shape = X_train.shape[1]\n",
        "input_shape"
      ]
    },
    {
      "cell_type": "code",
      "execution_count": 270,
      "metadata": {},
      "outputs": [
        {
          "name": "stdout",
          "output_type": "stream",
          "text": [
            "Epoch 1/20\n",
            "12/12 [==============================] - 1s 16ms/step - loss: 0.3689 - val_loss: 0.0694\n",
            "Epoch 2/20\n",
            "12/12 [==============================] - 0s 5ms/step - loss: 0.1014 - val_loss: 0.0220\n",
            "Epoch 3/20\n",
            "12/12 [==============================] - 0s 5ms/step - loss: 0.0426 - val_loss: 0.0154\n",
            "Epoch 4/20\n",
            "12/12 [==============================] - 0s 5ms/step - loss: 0.0250 - val_loss: 0.0144\n",
            "Epoch 5/20\n",
            "12/12 [==============================] - 0s 6ms/step - loss: 0.0178 - val_loss: 0.0142\n",
            "Epoch 6/20\n",
            "12/12 [==============================] - 0s 5ms/step - loss: 0.0146 - val_loss: 0.0141\n",
            "Epoch 7/20\n",
            "12/12 [==============================] - 0s 5ms/step - loss: 0.0126 - val_loss: 0.0140\n",
            "Epoch 8/20\n",
            "12/12 [==============================] - 0s 6ms/step - loss: 0.0116 - val_loss: 0.0140\n",
            "Epoch 9/20\n",
            "12/12 [==============================] - 0s 5ms/step - loss: 0.0110 - val_loss: 0.0140\n",
            "Epoch 10/20\n",
            "12/12 [==============================] - 0s 5ms/step - loss: 0.0105 - val_loss: 0.0140\n",
            "Epoch 11/20\n",
            "12/12 [==============================] - 0s 5ms/step - loss: 0.0102 - val_loss: 0.0140\n",
            "Epoch 12/20\n",
            "12/12 [==============================] - 0s 5ms/step - loss: 0.0100 - val_loss: 0.0140\n",
            "Epoch 13/20\n",
            "12/12 [==============================] - 0s 5ms/step - loss: 0.0099 - val_loss: 0.0140\n",
            "Epoch 14/20\n",
            "12/12 [==============================] - 0s 5ms/step - loss: 0.0098 - val_loss: 0.0140\n",
            "Epoch 15/20\n",
            "12/12 [==============================] - 0s 5ms/step - loss: 0.0096 - val_loss: 0.0140\n",
            "Epoch 16/20\n",
            "12/12 [==============================] - 0s 5ms/step - loss: 0.0096 - val_loss: 0.0140\n",
            "Epoch 17/20\n",
            "12/12 [==============================] - 0s 5ms/step - loss: 0.0095 - val_loss: 0.0140\n",
            "Epoch 18/20\n",
            "12/12 [==============================] - 0s 5ms/step - loss: 0.0097 - val_loss: 0.0140\n",
            "Epoch 19/20\n",
            "12/12 [==============================] - 0s 6ms/step - loss: 0.0094 - val_loss: 0.0140\n",
            "Epoch 20/20\n",
            "12/12 [==============================] - 0s 6ms/step - loss: 0.0094 - val_loss: 0.0140\n"
          ]
        },
        {
          "data": {
            "image/png": "[encoded data removed]",
            "text/plain": [
              "<Figure size 432x288 with 1 Axes>"
            ]
          },
          "metadata": {
            "needs_background": "light"
          },
          "output_type": "display_data"
        }
      ],
      "source": [
        "# Sequential model\n",
        "model = Sequential()\n",
        "\n",
        "# First hidden layer\n",
        "model.add(Dense(30,\n",
        "                input_dim = input_shape,\n",
        "                activation = 'relu'))\n",
        "# Second hidden layer\n",
        "model.add(Dense(10,\n",
        "                activation = 'relu'))\n",
        "\n",
        "# Output layer\n",
        "model.add(Dense(1, activation = 'sigmoid'))\n",
        "\n",
        "# Step 2: Compile\n",
        "model.compile(loss = 'mean_squared_error', optimizer = 'adam')\n",
        "\n",
        "# Step 3: Fit our model\n",
        "history = model.fit(X_train, y_train,\n",
        "                    validation_data = (X_test, y_test), \n",
        "                    epochs=20)\n",
        "\n",
        "# Visualize the loss\n",
        "plt.plot(history.history['loss'], label='Train loss')\n",
        "plt.plot(history.history['val_loss'], label='Test Loss')\n",
        "plt.legend();"
      ]
    },
    {
      "cell_type": "markdown",
      "metadata": {},
      "source": [
        "The train and test loss is close to 0. This is enough."
      ]
    },
    {
      "cell_type": "markdown",
      "metadata": {
        "id": "DYddwn3mUfAZ"
      },
      "source": [
        "### Classification\n",
        "\n",
        "For this part of the project, the goal is to develop a machine learning algorithm for the 'perfect trade' scenarios. Based on the set SL and TP, any SL hit were back-engineered to develop the 'perfect trade' scenario. This was set as the target vector for the classification algorithm."
      ]
    },
    {
      "cell_type": "markdown",
      "metadata": {
        "id": "NFBBX6hzWrVd"
      },
      "source": [
        "#### Random Forest Classifier"
      ]
    },
    {
      "cell_type": "code",
      "execution_count": 271,
      "metadata": {
        "colab": {
          "base_uri": "https://localhost:8080/",
          "height": 392
        },
        "id": "X-AagGcdUvbB",
        "outputId": "02adcf8c-fe1e-4514-a3c5-9f487a421f86"
      },
      "outputs": [
        {
          "data": {
            "text/html": [
              "<div>\n",
              "<style scoped>\n",
              "    .dataframe tbody tr th:only-of-type {\n",
              "        vertical-align: middle;\n",
              "    }\n",
              "\n",
              "    .dataframe tbody tr th {\n",
              "        vertical-align: top;\n",
              "    }\n",
              "\n",
              "    .dataframe thead th {\n",
              "        text-align: right;\n",
              "    }\n",
              "</style>\n",
              "<table border=\"1\" class=\"dataframe\">\n",
              "  <thead>\n",
              "    <tr style=\"text-align: right;\">\n",
              "      <th></th>\n",
              "      <th>datetime</th>\n",
              "      <th>Inst-1-open</th>\n",
              "      <th>Inst-1-high</th>\n",
              "      <th>Inst-1-low</th>\n",
              "      <th>Inst-1-close</th>\n",
              "      <th>Inst-1-volume</th>\n",
              "      <th>Inst-2-open</th>\n",
              "      <th>Inst-2-high</th>\n",
              "      <th>Inst-2-low</th>\n",
              "      <th>Inst-2-close</th>\n",
              "      <th>...</th>\n",
              "      <th>lret_2</th>\n",
              "      <th>lret_3</th>\n",
              "      <th>lret_4</th>\n",
              "      <th>lret_5</th>\n",
              "      <th>MA_9_1</th>\n",
              "      <th>MA_20_1</th>\n",
              "      <th>decision_1</th>\n",
              "      <th>hit_1</th>\n",
              "      <th>profit</th>\n",
              "      <th>perfect_trade_1</th>\n",
              "    </tr>\n",
              "  </thead>\n",
              "  <tbody>\n",
              "    <tr>\n",
              "      <th>1</th>\n",
              "      <td>13-09-19 04:00:00</td>\n",
              "      <td>2250.6</td>\n",
              "      <td>2352.4</td>\n",
              "      <td>2215.6</td>\n",
              "      <td>2349.0</td>\n",
              "      <td>4839</td>\n",
              "      <td>60.817073</td>\n",
              "      <td>66.304878</td>\n",
              "      <td>58.048780</td>\n",
              "      <td>65.182927</td>\n",
              "      <td>...</td>\n",
              "      <td>0.069327</td>\n",
              "      <td>0.005385</td>\n",
              "      <td>0.003841</td>\n",
              "      <td>-0.000376</td>\n",
              "      <td>0.1</td>\n",
              "      <td>0.1</td>\n",
              "      <td>No Trade</td>\n",
              "      <td>No Trade</td>\n",
              "      <td>0.0</td>\n",
              "      <td>No Trade</td>\n",
              "    </tr>\n",
              "    <tr>\n",
              "      <th>2</th>\n",
              "      <td>13-09-19 05:00:00</td>\n",
              "      <td>2349.0</td>\n",
              "      <td>2368.8</td>\n",
              "      <td>2293.2</td>\n",
              "      <td>2353.0</td>\n",
              "      <td>2992</td>\n",
              "      <td>65.182927</td>\n",
              "      <td>67.280488</td>\n",
              "      <td>62.609756</td>\n",
              "      <td>64.048780</td>\n",
              "      <td>...</td>\n",
              "      <td>-0.017553</td>\n",
              "      <td>0.003878</td>\n",
              "      <td>0.000254</td>\n",
              "      <td>-0.000301</td>\n",
              "      <td>0.1</td>\n",
              "      <td>0.1</td>\n",
              "      <td>No Trade</td>\n",
              "      <td>No Trade</td>\n",
              "      <td>0.0</td>\n",
              "      <td>No Trade</td>\n",
              "    </tr>\n",
              "    <tr>\n",
              "      <th>3</th>\n",
              "      <td>13-09-19 06:00:00</td>\n",
              "      <td>2353.0</td>\n",
              "      <td>2369.2</td>\n",
              "      <td>2251.0</td>\n",
              "      <td>2316.0</td>\n",
              "      <td>5164</td>\n",
              "      <td>64.048780</td>\n",
              "      <td>65.841463</td>\n",
              "      <td>60.560976</td>\n",
              "      <td>61.256098</td>\n",
              "      <td>...</td>\n",
              "      <td>-0.044582</td>\n",
              "      <td>-0.003747</td>\n",
              "      <td>-0.002455</td>\n",
              "      <td>0.001054</td>\n",
              "      <td>0.1</td>\n",
              "      <td>0.1</td>\n",
              "      <td>No Trade</td>\n",
              "      <td>No Trade</td>\n",
              "      <td>0.0</td>\n",
              "      <td>No Trade</td>\n",
              "    </tr>\n",
              "    <tr>\n",
              "      <th>4</th>\n",
              "      <td>13-09-19 07:00:00</td>\n",
              "      <td>2316.0</td>\n",
              "      <td>2329.8</td>\n",
              "      <td>2242.4</td>\n",
              "      <td>2274.2</td>\n",
              "      <td>2526</td>\n",
              "      <td>61.256098</td>\n",
              "      <td>61.695122</td>\n",
              "      <td>57.182927</td>\n",
              "      <td>59.000000</td>\n",
              "      <td>...</td>\n",
              "      <td>-0.037526</td>\n",
              "      <td>-0.001748</td>\n",
              "      <td>0.000819</td>\n",
              "      <td>-0.002336</td>\n",
              "      <td>0.1</td>\n",
              "      <td>0.1</td>\n",
              "      <td>No Trade</td>\n",
              "      <td>No Trade</td>\n",
              "      <td>0.0</td>\n",
              "      <td>No Trade</td>\n",
              "    </tr>\n",
              "    <tr>\n",
              "      <th>5</th>\n",
              "      <td>13-09-19 08:00:00</td>\n",
              "      <td>2274.2</td>\n",
              "      <td>2379.8</td>\n",
              "      <td>2139.8</td>\n",
              "      <td>2151.6</td>\n",
              "      <td>5519</td>\n",
              "      <td>59.000000</td>\n",
              "      <td>63.573171</td>\n",
              "      <td>54.243902</td>\n",
              "      <td>54.621951</td>\n",
              "      <td>...</td>\n",
              "      <td>-0.077102</td>\n",
              "      <td>-0.004646</td>\n",
              "      <td>-0.004498</td>\n",
              "      <td>0.001432</td>\n",
              "      <td>0.1</td>\n",
              "      <td>0.1</td>\n",
              "      <td>No Trade</td>\n",
              "      <td>No Trade</td>\n",
              "      <td>0.0</td>\n",
              "      <td>No Trade</td>\n",
              "    </tr>\n",
              "  </tbody>\n",
              "</table>\n",
              "<p>5 rows × 37 columns</p>\n",
              "</div>"
            ],
            "text/plain": [
              "            datetime  Inst-1-open  Inst-1-high  Inst-1-low  Inst-1-close  \\\n",
              "1  13-09-19 04:00:00       2250.6       2352.4      2215.6        2349.0   \n",
              "2  13-09-19 05:00:00       2349.0       2368.8      2293.2        2353.0   \n",
              "3  13-09-19 06:00:00       2353.0       2369.2      2251.0        2316.0   \n",
              "4  13-09-19 07:00:00       2316.0       2329.8      2242.4        2274.2   \n",
              "5  13-09-19 08:00:00       2274.2       2379.8      2139.8        2151.6   \n",
              "\n",
              "   Inst-1-volume  Inst-2-open  Inst-2-high  Inst-2-low  Inst-2-close  ...  \\\n",
              "1           4839    60.817073    66.304878   58.048780     65.182927  ...   \n",
              "2           2992    65.182927    67.280488   62.609756     64.048780  ...   \n",
              "3           5164    64.048780    65.841463   60.560976     61.256098  ...   \n",
              "4           2526    61.256098    61.695122   57.182927     59.000000  ...   \n",
              "5           5519    59.000000    63.573171   54.243902     54.621951  ...   \n",
              "\n",
              "     lret_2    lret_3    lret_4    lret_5  MA_9_1  MA_20_1  decision_1  \\\n",
              "1  0.069327  0.005385  0.003841 -0.000376     0.1      0.1    No Trade   \n",
              "2 -0.017553  0.003878  0.000254 -0.000301     0.1      0.1    No Trade   \n",
              "3 -0.044582 -0.003747 -0.002455  0.001054     0.1      0.1    No Trade   \n",
              "4 -0.037526 -0.001748  0.000819 -0.002336     0.1      0.1    No Trade   \n",
              "5 -0.077102 -0.004646 -0.004498  0.001432     0.1      0.1    No Trade   \n",
              "\n",
              "      hit_1  profit  perfect_trade_1  \n",
              "1  No Trade     0.0         No Trade  \n",
              "2  No Trade     0.0         No Trade  \n",
              "3  No Trade     0.0         No Trade  \n",
              "4  No Trade     0.0         No Trade  \n",
              "5  No Trade     0.0         No Trade  \n",
              "\n",
              "[5 rows x 37 columns]"
            ]
          },
          "execution_count": 271,
          "metadata": {},
          "output_type": "execute_result"
        }
      ],
      "source": [
        "# Create another column for the \"perfect trade\" as target y\n",
        "perfect_trade_list = list()\n",
        "for value in data['hit_1'].to_list():\n",
        "  if value == 'No Trade':\n",
        "    perfect_trade_list.append('No Trade')\n",
        "  elif value == 'SL on Buy':\n",
        "    perfect_trade_list.append('Sell')\n",
        "  elif value == 'SL on Sell':\n",
        "    perfect_trade_list.append('Buy')\n",
        "  elif value == 'TP on Sell':\n",
        "    perfect_trade_list.append('Sell')\n",
        "  else:\n",
        "    perfect_trade_list.append('Buy')\n",
        "  \n",
        "data['perfect_trade_1'] = pd.DataFrame(perfect_trade_list)\n",
        "data.head()"
      ]
    },
    {
      "cell_type": "code",
      "execution_count": 272,
      "metadata": {
        "id": "3st1jZP4YOpU"
      },
      "outputs": [],
      "source": [
        "# Drop the null values\n",
        "data.dropna(inplace=True)"
      ]
    },
    {
      "cell_type": "code",
      "execution_count": 273,
      "metadata": {
        "id": "Cyzpmt2vUgqu"
      },
      "outputs": [],
      "source": [
        "# Define and X and y\n",
        "X = data[['Inst-1-open', 'Inst-1-high', 'Inst-1-low', 'Inst-1-close', 'Inst-1-volume', 'MA_9_1', 'MA_20_1', 'lret_1']]\n",
        "y = data['perfect_trade_1']\n",
        "\n",
        "# Split the data\n",
        "X_train, X_test, y_train, y_test = train_test_split(X, y, random_state=101)"
      ]
    },
    {
      "cell_type": "code",
      "execution_count": 274,
      "metadata": {
        "id": "7ObzoX0RUoYR"
      },
      "outputs": [],
      "source": [
        "# Select columns\n",
        "cat_selector = make_column_selector(dtype_include='object')\n",
        "num_selector = make_column_selector(dtype_include='number')\n",
        "\n",
        "cat_columns_train = cat_selector(X_train)\n",
        "cat_columns_test = cat_selector(X_test)\n",
        "num_columns_train = num_selector(X_train)\n",
        "num_columns_test = num_selector(X_test)\n",
        "\n",
        "cat_data_train = X_train[cat_columns_train]\n",
        "cat_data_test = X_test[cat_columns_test]\n",
        "num_data_train = X_train[num_columns_train]\n",
        "num_data_test = X_test[num_columns_test]\n",
        "\n",
        "# Instantiate OneHotEncoder\n",
        "ohe = OneHotEncoder(sparse=False, handle_unknown='ignore')\n",
        "\n",
        "# Fit and transform using ohe\n",
        "ohe_train = ohe.fit_transform(cat_data_train)\n",
        "ohe_test = ohe.transform(cat_data_test)\n",
        "\n",
        "# Instantiate scaler\n",
        "scaler = StandardScaler()\n",
        "\n",
        "# Fit and transform to the Xtrain and Xtest\n",
        "train_scale = scaler.fit_transform(num_data_train)\n",
        "test_scale = scaler.transform(num_data_test)\n",
        "\n",
        "# Make imputer pipeline for imputer, scaler and ohe\n",
        "pipe = make_pipeline(ohe, scaler)"
      ]
    },
    {
      "cell_type": "code",
      "execution_count": 275,
      "metadata": {
        "id": "3kAbGjnbVaIs"
      },
      "outputs": [],
      "source": [
        "# Make a column transformer\n",
        "preprocessor = ColumnTransformer(\n",
        "    transformers=[\n",
        "        ('num', pipe, num_selector), \n",
        "        (\"cat\", pipe, cat_selector)\n",
        "    ]\n",
        ")\n",
        "\n",
        "# Fit with the Xtrain\n",
        "X_train = pd.DataFrame(preprocessor.fit_transform(X_train))\n",
        "\n",
        "# Fit transformer with the Xtest\n",
        "X_test = pd.DataFrame(preprocessor.transform(X_test))"
      ]
    },
    {
      "cell_type": "code",
      "execution_count": 276,
      "metadata": {
        "id": "_2foF0bTVflE"
      },
      "outputs": [],
      "source": [
        "# Import the model\n",
        "from sklearn.ensemble import RandomForestClassifier\n",
        "\n",
        "# Instantiate Random Forest\n",
        "rf_class = RandomForestClassifier(random_state=101)"
      ]
    },
    {
      "cell_type": "code",
      "execution_count": 277,
      "metadata": {
        "colab": {
          "base_uri": "https://localhost:8080/"
        },
        "id": "Gl0czz4IVkm_",
        "outputId": "cf518b65-ad9f-4f16-b3f8-4191658b5873"
      },
      "outputs": [
        {
          "name": "stdout",
          "output_type": "stream",
          "text": [
            "Train score is 1.0\n",
            "Test score is 0.4959349593495935\n"
          ]
        }
      ],
      "source": [
        "# Create a pipeline for the random forest\n",
        "rf_class_pipe = Pipeline(\n",
        "    steps=[('preprocessor', preprocessor), ('random forest classifier', rf_class)]\n",
        ")\n",
        "\n",
        "# Fit the model with the training data\n",
        "rf_class_pipe.fit(X_train, y_train)\n",
        "\n",
        "# Predict with the test set\n",
        "rf_class_pipe.predict(X_test)\n",
        "\n",
        "# Evaluate the model\n",
        "rf_class_train_score = rf_class_pipe.score(X_train, y_train)\n",
        "rf_class_test_score = rf_class_pipe.score(X_test, y_test)\n",
        "print(f\"Train score is {rf_class_train_score}\")\n",
        "print(f\"Test score is {rf_class_test_score}\")"
      ]
    },
    {
      "cell_type": "markdown",
      "metadata": {
        "id": "3_s-p2lfWI5G"
      },
      "source": [
        "#### XGBoost Classifier"
      ]
    },
    {
      "cell_type": "code",
      "execution_count": 278,
      "metadata": {
        "id": "dqDPm2KzWKjG"
      },
      "outputs": [],
      "source": [
        "# Import the model\n",
        "from xgboost import XGBClassifier\n",
        "\n",
        "# Instantiate the model\n",
        "xgb_class = XGBClassifier()"
      ]
    },
    {
      "cell_type": "code",
      "execution_count": 279,
      "metadata": {
        "id": "V4jYPELxWPO3"
      },
      "outputs": [
        {
          "name": "stderr",
          "output_type": "stream",
          "text": [
            "C:\\Users\\Rhaniel delos Santos\\AppData\\Local\\Programs\\Python\\Python310\\lib\\site-packages\\xgboost\\sklearn.py:1224: UserWarning: The use of label encoder in XGBClassifier is deprecated and will be removed in a future release. To remove this warning, do the following: 1) Pass option use_label_encoder=False when constructing XGBClassifier object; and 2) Encode your labels (y) as integers starting with 0, i.e. 0, 1, 2, ..., [num_class - 1].\n",
            "  warnings.warn(label_encoder_deprecation_msg, UserWarning)\n"
          ]
        },
        {
          "name": "stdout",
          "output_type": "stream",
          "text": [
            "[10:35:06] WARNING: C:/Users/Administrator/workspace/xgboost-win64_release_1.5.1/src/learner.cc:1115: Starting in XGBoost 1.3.0, the default evaluation metric used with the objective 'multi:softprob' was changed from 'merror' to 'mlogloss'. Explicitly set eval_metric if you'd like to restore the old behavior.\n"
          ]
        }
      ],
      "source": [
        "# Make a pipeline\n",
        "xgb_class_pipe = Pipeline(\n",
        "    steps=(['preprocessor', preprocessor], ['XGBoost Classifier', xgb_class])\n",
        ")\n",
        "\n",
        "# Fit the model\n",
        "xgb_class_pipe.fit(X_train, y_train)\n",
        "\n",
        "# Predict\n",
        "xgb_class_predictions_train = xgb_class_pipe.predict(X_train)\n",
        "xgb_class_predictions_test = xgb_class_pipe.predict(X_test)"
      ]
    },
    {
      "cell_type": "code",
      "execution_count": 280,
      "metadata": {
        "colab": {
          "base_uri": "https://localhost:8080/"
        },
        "id": "-2N30NXjWeWM",
        "outputId": "0e031d9a-da71-4238-d278-a28b92ba3196"
      },
      "outputs": [
        {
          "name": "stdout",
          "output_type": "stream",
          "text": [
            "The score of the XGBoost Classifier model for training set is 0.4932249322493225\n",
            "The score of the XGBoost Classifier model for testing set is 0.4959349593495935\n"
          ]
        }
      ],
      "source": [
        "# Evaluate the model\n",
        "xgb_class_score_train = accuracy_score(y_train, xgb_class_predictions_train)\n",
        "xgb_class_score_test = accuracy_score(y_test, xgb_class_predictions_test)\n",
        "\n",
        "print(f\"The score of the XGBoost Classifier model for training set is {xgb_class_score_train}\")\n",
        "print(f\"The score of the XGBoost Classifier model for testing set is {xgb_class_score_test}\")"
      ]
    }
  ],
  "metadata": {
    "colab": {
      "collapsed_sections": [],
      "name": "Cryptocurrency Case Study",
      "provenance": []
    },
    "kernelspec": {
      "display_name": "Python 3",
      "name": "python3"
    },
    "language_info": {
      "codemirror_mode": {
        "name": "ipython",
        "version": 3
      },
      "file_extension": ".py",
      "mimetype": "text/x-python",
      "name": "python",
      "nbconvert_exporter": "python",
      "pygments_lexer": "ipython3",
      "version": "3.10.2"
    }
  },
  "nbformat": 4,
  "nbformat_minor": 0
}
